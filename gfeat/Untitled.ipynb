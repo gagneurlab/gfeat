{
 "cells": [
  {
   "cell_type": "code",
   "execution_count": 1,
<<<<<<< HEAD
   "metadata": {
    "collapsed": true,
    "deletable": true,
    "editable": true
   },
   "outputs": [],
   "source": [
    "import pyensembl"
=======
   "metadata": {},
   "outputs": [],
   "source": [
    "import pyensembl\n",
    "from pyensembl import Genome"
   ]
  },
  {
   "cell_type": "code",
   "execution_count": 2,
   "metadata": {},
   "outputs": [
    {
     "data": {
      "text/plain": [
       "'/Users/veronikakotova/gfeat/gfeat'"
      ]
     },
     "execution_count": 2,
     "metadata": {},
     "output_type": "execute_result"
    }
   ],
   "source": [
    "pwd"
   ]
  },
  {
   "cell_type": "code",
   "execution_count": 3,
   "metadata": {},
   "outputs": [
    {
     "ename": "ImportError",
     "evalue": "cannot import name 'transcript'",
     "traceback": [
      "\u001b[0;31m---------------------------------------------------------------------------\u001b[0m",
      "\u001b[0;31mImportError\u001b[0m                               Traceback (most recent call last)",
      "\u001b[0;32m<ipython-input-3-f6e97050e70e>\u001b[0m in \u001b[0;36m<module>\u001b[0;34m()\u001b[0m\n\u001b[0;32m----> 1\u001b[0;31m \u001b[0;32mfrom\u001b[0m \u001b[0mgfeat\u001b[0m \u001b[0;32mimport\u001b[0m \u001b[0mtranscript\u001b[0m\u001b[0;34m\u001b[0m\u001b[0m\n\u001b[0m",
      "\u001b[0;31mImportError\u001b[0m: cannot import name 'transcript'"
     ],
     "output_type": "error"
    }
   ],
   "source": [
    "from gfeat import transcript"
   ]
  },
  {
   "cell_type": "code",
   "execution_count": 4,
   "metadata": {},
   "outputs": [],
   "source": [
    "data = Genome(reference_name=\"hg38\", annotation_name=\"hg38_chr22\", \n",
    "              gtf_path_or_url=\"../data/gencode.v24.annotation_chr22.gtf\", \n",
    "              transcript_fasta_path_or_url=\"../data/hg38_chr22.fa\")"
   ]
  },
  {
   "cell_type": "code",
   "execution_count": 5,
   "metadata": {},
   "outputs": [
    {
     "ename": "MissingLocalFile",
     "evalue": "MissingFile(/Users/veronikakotova/gfeat/data/gencode.v24.annotation_chr22.gtf)",
     "traceback": [
      "\u001b[0;31m---------------------------------------------------------------------------\u001b[0m",
      "\u001b[0;31mMissingLocalFile\u001b[0m                          Traceback (most recent call last)",
      "\u001b[0;32m<ipython-input-5-513548ddf817>\u001b[0m in \u001b[0;36m<module>\u001b[0;34m()\u001b[0m\n\u001b[0;32m----> 1\u001b[0;31m \u001b[0mprint\u001b[0m\u001b[0;34m(\u001b[0m\u001b[0mdata\u001b[0m\u001b[0;34m.\u001b[0m\u001b[0mgene_ids\u001b[0m\u001b[0;34m(\u001b[0m\u001b[0;36m1\u001b[0m\u001b[0;34m,\u001b[0m \u001b[0;34m'-'\u001b[0m\u001b[0;34m)\u001b[0m\u001b[0;34m)\u001b[0m\u001b[0;34m\u001b[0m\u001b[0m\n\u001b[0m",
      "\u001b[0;32m~/miniconda3/lib/python3.6/site-packages/pyensembl/genome.py\u001b[0m in \u001b[0;36mgene_ids\u001b[0;34m(self, contig, strand)\u001b[0m\n\u001b[1;32m    733\u001b[0m             \u001b[0mfeature\u001b[0m\u001b[0;34m=\u001b[0m\u001b[0;34m\"gene\"\u001b[0m\u001b[0;34m,\u001b[0m\u001b[0;34m\u001b[0m\u001b[0m\n\u001b[1;32m    734\u001b[0m             \u001b[0mcontig\u001b[0m\u001b[0;34m=\u001b[0m\u001b[0mcontig\u001b[0m\u001b[0;34m,\u001b[0m\u001b[0;34m\u001b[0m\u001b[0m\n\u001b[0;32m--> 735\u001b[0;31m             strand=strand)\n\u001b[0m\u001b[1;32m    736\u001b[0m \u001b[0;34m\u001b[0m\u001b[0m\n\u001b[1;32m    737\u001b[0m     \u001b[0;32mdef\u001b[0m \u001b[0mgene_ids_of_gene_name\u001b[0m\u001b[0;34m(\u001b[0m\u001b[0mself\u001b[0m\u001b[0;34m,\u001b[0m \u001b[0mgene_name\u001b[0m\u001b[0;34m)\u001b[0m\u001b[0;34m:\u001b[0m\u001b[0;34m\u001b[0m\u001b[0m\n",
      "\u001b[0;32m~/miniconda3/lib/python3.6/site-packages/pyensembl/genome.py\u001b[0m in \u001b[0;36m_all_feature_values\u001b[0;34m(self, column, feature, distinct, contig, strand)\u001b[0m\n\u001b[1;32m    402\u001b[0m         \u001b[0mReturns\u001b[0m \u001b[0ma\u001b[0m \u001b[0mlist\u001b[0m \u001b[0mconstructed\u001b[0m \u001b[0;32mfrom\u001b[0m \u001b[0mquery\u001b[0m \u001b[0mresults\u001b[0m\u001b[0;34m.\u001b[0m\u001b[0;34m\u001b[0m\u001b[0m\n\u001b[1;32m    403\u001b[0m         \"\"\"\n\u001b[0;32m--> 404\u001b[0;31m         \u001b[0;32mif\u001b[0m \u001b[0;32mnot\u001b[0m \u001b[0mself\u001b[0m\u001b[0;34m.\u001b[0m\u001b[0mgtf\u001b[0m\u001b[0;34m:\u001b[0m\u001b[0;34m\u001b[0m\u001b[0m\n\u001b[0m\u001b[1;32m    405\u001b[0m             raise ValueError(\"No GTF supplied to this Genome: %s\" %\n\u001b[1;32m    406\u001b[0m                              str(self))\n",
      "\u001b[0;32m~/miniconda3/lib/python3.6/site-packages/pyensembl/genome.py\u001b[0m in \u001b[0;36mgtf\u001b[0;34m(self)\u001b[0m\n\u001b[1;32m    241\u001b[0m             \u001b[0;31m# make sure GTF  file exists locally\u001b[0m\u001b[0;34m\u001b[0m\u001b[0;34m\u001b[0m\u001b[0m\n\u001b[1;32m    242\u001b[0m             \u001b[0;31m# and populate self.gtf_path\u001b[0m\u001b[0;34m\u001b[0m\u001b[0;34m\u001b[0m\u001b[0m\n\u001b[0;32m--> 243\u001b[0;31m             \u001b[0mself\u001b[0m\u001b[0;34m.\u001b[0m\u001b[0m_set_local_paths\u001b[0m\u001b[0;34m(\u001b[0m\u001b[0;34m)\u001b[0m\u001b[0;34m\u001b[0m\u001b[0m\n\u001b[0m\u001b[1;32m    244\u001b[0m             \u001b[0;32massert\u001b[0m \u001b[0mself\u001b[0m\u001b[0;34m.\u001b[0m\u001b[0mgtf_path\u001b[0m \u001b[0;32mis\u001b[0m \u001b[0;32mnot\u001b[0m \u001b[0;32mNone\u001b[0m\u001b[0;34m\u001b[0m\u001b[0m\n\u001b[1;32m    245\u001b[0m             \u001b[0;31m# GTF object wraps the source GTF file from which we get\u001b[0m\u001b[0;34m\u001b[0m\u001b[0;34m\u001b[0m\u001b[0m\n",
      "\u001b[0;32m~/miniconda3/lib/python3.6/site-packages/pyensembl/genome.py\u001b[0m in \u001b[0;36m_set_local_paths\u001b[0;34m(self, download_if_missing, overwrite)\u001b[0m\n\u001b[1;32m    200\u001b[0m             self.gtf_path = self._get_gtf_path(\n\u001b[1;32m    201\u001b[0m                 \u001b[0mdownload_if_missing\u001b[0m\u001b[0;34m=\u001b[0m\u001b[0mdownload_if_missing\u001b[0m\u001b[0;34m,\u001b[0m\u001b[0;34m\u001b[0m\u001b[0m\n\u001b[0;32m--> 202\u001b[0;31m                 overwrite=overwrite)\n\u001b[0m\u001b[1;32m    203\u001b[0m         \u001b[0;32mif\u001b[0m \u001b[0mself\u001b[0m\u001b[0;34m.\u001b[0m\u001b[0mhas_transcript_fasta\u001b[0m\u001b[0;34m:\u001b[0m\u001b[0;34m\u001b[0m\u001b[0m\n\u001b[1;32m    204\u001b[0m             self.transcript_fasta_path = self._get_transcript_fasta_path(\n",
      "\u001b[0;32m~/miniconda3/lib/python3.6/site-packages/pyensembl/genome.py\u001b[0m in \u001b[0;36m_get_gtf_path\u001b[0;34m(self, download_if_missing, overwrite)\u001b[0m\n\u001b[1;32m    168\u001b[0m             \u001b[0mpath_or_url\u001b[0m\u001b[0;34m=\u001b[0m\u001b[0mself\u001b[0m\u001b[0;34m.\u001b[0m\u001b[0m_gtf_path_or_url\u001b[0m\u001b[0;34m,\u001b[0m\u001b[0;34m\u001b[0m\u001b[0m\n\u001b[1;32m    169\u001b[0m             \u001b[0mdownload_if_missing\u001b[0m\u001b[0;34m=\u001b[0m\u001b[0mdownload_if_missing\u001b[0m\u001b[0;34m,\u001b[0m\u001b[0;34m\u001b[0m\u001b[0m\n\u001b[0;32m--> 170\u001b[0;31m             overwrite=overwrite)\n\u001b[0m\u001b[1;32m    171\u001b[0m \u001b[0;34m\u001b[0m\u001b[0m\n\u001b[1;32m    172\u001b[0m     def _get_transcript_fasta_path(\n",
      "\u001b[0;32m~/miniconda3/lib/python3.6/site-packages/pyensembl/genome.py\u001b[0m in \u001b[0;36m_get_cached_path\u001b[0;34m(self, field_name, path_or_url, download_if_missing, overwrite)\u001b[0m\n\u001b[1;32m    161\u001b[0m             \u001b[0mpath_or_url\u001b[0m\u001b[0;34m=\u001b[0m\u001b[0mpath_or_url\u001b[0m\u001b[0;34m,\u001b[0m\u001b[0;34m\u001b[0m\u001b[0m\n\u001b[1;32m    162\u001b[0m             \u001b[0mdownload_if_missing\u001b[0m\u001b[0;34m=\u001b[0m\u001b[0mdownload_if_missing\u001b[0m\u001b[0;34m,\u001b[0m\u001b[0;34m\u001b[0m\u001b[0m\n\u001b[0;32m--> 163\u001b[0;31m             overwrite=overwrite)\n\u001b[0m\u001b[1;32m    164\u001b[0m \u001b[0;34m\u001b[0m\u001b[0m\n\u001b[1;32m    165\u001b[0m     \u001b[0;32mdef\u001b[0m \u001b[0m_get_gtf_path\u001b[0m\u001b[0;34m(\u001b[0m\u001b[0mself\u001b[0m\u001b[0;34m,\u001b[0m \u001b[0mdownload_if_missing\u001b[0m\u001b[0;34m=\u001b[0m\u001b[0;32mFalse\u001b[0m\u001b[0;34m,\u001b[0m \u001b[0moverwrite\u001b[0m\u001b[0;34m=\u001b[0m\u001b[0;32mFalse\u001b[0m\u001b[0;34m)\u001b[0m\u001b[0;34m:\u001b[0m\u001b[0;34m\u001b[0m\u001b[0m\n",
      "\u001b[0;32m~/miniconda3/lib/python3.6/site-packages/pyensembl/download_cache.py\u001b[0m in \u001b[0;36mlocal_path_or_install_error\u001b[0;34m(self, field_name, path_or_url, download_if_missing, overwrite)\u001b[0m\n\u001b[1;32m    294\u001b[0m                 \u001b[0mpath_or_url\u001b[0m\u001b[0;34m,\u001b[0m\u001b[0;34m\u001b[0m\u001b[0m\n\u001b[1;32m    295\u001b[0m                 \u001b[0mdownload_if_missing\u001b[0m\u001b[0;34m=\u001b[0m\u001b[0mdownload_if_missing\u001b[0m\u001b[0;34m,\u001b[0m\u001b[0;34m\u001b[0m\u001b[0m\n\u001b[0;32m--> 296\u001b[0;31m                 overwrite=overwrite)\n\u001b[0m\u001b[1;32m    297\u001b[0m         \u001b[0;32mexcept\u001b[0m \u001b[0mMissingRemoteFile\u001b[0m\u001b[0;34m:\u001b[0m\u001b[0;34m\u001b[0m\u001b[0m\n\u001b[1;32m    298\u001b[0m             \u001b[0mself\u001b[0m\u001b[0;34m.\u001b[0m\u001b[0m_raise_missing_file_error\u001b[0m\u001b[0;34m(\u001b[0m\u001b[0;34m{\u001b[0m\u001b[0mfield_name\u001b[0m\u001b[0;34m:\u001b[0m \u001b[0mpath_or_url\u001b[0m\u001b[0;34m}\u001b[0m\u001b[0;34m)\u001b[0m\u001b[0;34m\u001b[0m\u001b[0m\n",
      "\u001b[0;32m~/miniconda3/lib/python3.6/site-packages/pyensembl/download_cache.py\u001b[0m in \u001b[0;36mdownload_or_copy_if_necessary\u001b[0;34m(self, path_or_url, download_if_missing, overwrite)\u001b[0m\n\u001b[1;32m    271\u001b[0m                 overwrite)\n\u001b[1;32m    272\u001b[0m         \u001b[0;32melse\u001b[0m\u001b[0;34m:\u001b[0m\u001b[0;34m\u001b[0m\u001b[0m\n\u001b[0;32m--> 273\u001b[0;31m             \u001b[0;32mreturn\u001b[0m \u001b[0mself\u001b[0m\u001b[0;34m.\u001b[0m\u001b[0m_copy_if_necessary\u001b[0m\u001b[0;34m(\u001b[0m\u001b[0mpath_or_url\u001b[0m\u001b[0;34m,\u001b[0m \u001b[0moverwrite\u001b[0m\u001b[0;34m)\u001b[0m\u001b[0;34m\u001b[0m\u001b[0m\n\u001b[0m\u001b[1;32m    274\u001b[0m \u001b[0;34m\u001b[0m\u001b[0m\n\u001b[1;32m    275\u001b[0m     \u001b[0;32mdef\u001b[0m \u001b[0m_raise_missing_file_error\u001b[0m\u001b[0;34m(\u001b[0m\u001b[0mself\u001b[0m\u001b[0;34m,\u001b[0m \u001b[0mmissing_urls_dict\u001b[0m\u001b[0;34m)\u001b[0m\u001b[0;34m:\u001b[0m\u001b[0;34m\u001b[0m\u001b[0m\n",
      "\u001b[0;32m~/miniconda3/lib/python3.6/site-packages/pyensembl/download_cache.py\u001b[0m in \u001b[0;36m_copy_if_necessary\u001b[0;34m(self, local_path, overwrite)\u001b[0m\n\u001b[1;32m    228\u001b[0m         \u001b[0mlocal_path\u001b[0m \u001b[0;34m=\u001b[0m \u001b[0mabspath\u001b[0m\u001b[0;34m(\u001b[0m\u001b[0mlocal_path\u001b[0m\u001b[0;34m)\u001b[0m\u001b[0;34m\u001b[0m\u001b[0m\n\u001b[1;32m    229\u001b[0m         \u001b[0;32mif\u001b[0m \u001b[0;32mnot\u001b[0m \u001b[0mexists\u001b[0m\u001b[0;34m(\u001b[0m\u001b[0mlocal_path\u001b[0m\u001b[0;34m)\u001b[0m\u001b[0;34m:\u001b[0m\u001b[0;34m\u001b[0m\u001b[0m\n\u001b[0;32m--> 230\u001b[0;31m             \u001b[0;32mraise\u001b[0m \u001b[0mMissingLocalFile\u001b[0m\u001b[0;34m(\u001b[0m\u001b[0mlocal_path\u001b[0m\u001b[0;34m)\u001b[0m\u001b[0;34m\u001b[0m\u001b[0m\n\u001b[0m\u001b[1;32m    231\u001b[0m         \u001b[0;32melif\u001b[0m \u001b[0;32mnot\u001b[0m \u001b[0mself\u001b[0m\u001b[0;34m.\u001b[0m\u001b[0mcopy_local_files_to_cache\u001b[0m\u001b[0;34m:\u001b[0m\u001b[0;34m\u001b[0m\u001b[0m\n\u001b[1;32m    232\u001b[0m             \u001b[0;32mreturn\u001b[0m \u001b[0mlocal_path\u001b[0m\u001b[0;34m\u001b[0m\u001b[0m\n",
      "\u001b[0;31mMissingLocalFile\u001b[0m: MissingFile(/Users/veronikakotova/gfeat/data/gencode.v24.annotation_chr22.gtf)"
     ],
     "output_type": "error"
    }
   ],
   "source": [
    "print(data.gene_ids(1, '-'))"
   ]
  },
  {
   "cell_type": "code",
   "execution_count": 6,
   "metadata": {},
   "outputs": [],
   "source": [
    "data1 = pyensembl.Genome(reference_name='hg38',\n",
    "    annotation_name='hg38_chr22',\n",
    "    gtf_path_or_url='/Users/veronikakotova/gfeat/tests/data/gencode.v24.annotation_chr22.gtf',\n",
    "    transcript_fasta_path_or_url = '/Users/veronikakotova/gfeat/tests/data/hg38_chr22.fa'\n",
    "               )"
   ]
  },
  {
   "cell_type": "code",
   "execution_count": 7,
   "metadata": {},
   "outputs": [
    {
     "data": {
      "text/plain": [
       "[]"
      ]
     },
     "execution_count": 7,
     "metadata": {},
     "output_type": "execute_result"
    }
   ],
   "source": [
    "data1.gene_ids(1, '-')"
   ]
  },
  {
   "cell_type": "code",
   "execution_count": 8,
   "metadata": {},
   "outputs": [],
   "source": [
    "data = Genome(reference_name=\"hg38\", annotation_name=\"hg38_chr22\", \n",
    "              gtf_path_or_url=\"/Users/veronikakotova/gfeat/tests/data/gencode.v24.annotation_chr22.gtf\", \n",
    "              transcript_fasta_path_or_url=\"../data/hg38_chr22.fa\")"
   ]
  },
  {
   "cell_type": "code",
   "execution_count": 9,
   "metadata": {},
   "outputs": [
    {
     "ename": "MissingLocalFile",
     "evalue": "MissingFile(/Users/veronikakotova/gfeat/data/hg38_chr22.fa)",
     "traceback": [
      "\u001b[0;31m---------------------------------------------------------------------------\u001b[0m",
      "\u001b[0;31mMissingLocalFile\u001b[0m                          Traceback (most recent call last)",
      "\u001b[0;32m<ipython-input-9-9bce27ba9492>\u001b[0m in \u001b[0;36m<module>\u001b[0;34m()\u001b[0m\n\u001b[0;32m----> 1\u001b[0;31m \u001b[0mdata\u001b[0m\u001b[0;34m.\u001b[0m\u001b[0mgene_ids\u001b[0m\u001b[0;34m(\u001b[0m\u001b[0;36m1\u001b[0m\u001b[0;34m,\u001b[0m \u001b[0;34m'-'\u001b[0m\u001b[0;34m)\u001b[0m\u001b[0;34m\u001b[0m\u001b[0m\n\u001b[0m",
      "\u001b[0;32m~/miniconda3/lib/python3.6/site-packages/pyensembl/genome.py\u001b[0m in \u001b[0;36mgene_ids\u001b[0;34m(self, contig, strand)\u001b[0m\n\u001b[1;32m    733\u001b[0m             \u001b[0mfeature\u001b[0m\u001b[0;34m=\u001b[0m\u001b[0;34m\"gene\"\u001b[0m\u001b[0;34m,\u001b[0m\u001b[0;34m\u001b[0m\u001b[0m\n\u001b[1;32m    734\u001b[0m             \u001b[0mcontig\u001b[0m\u001b[0;34m=\u001b[0m\u001b[0mcontig\u001b[0m\u001b[0;34m,\u001b[0m\u001b[0;34m\u001b[0m\u001b[0m\n\u001b[0;32m--> 735\u001b[0;31m             strand=strand)\n\u001b[0m\u001b[1;32m    736\u001b[0m \u001b[0;34m\u001b[0m\u001b[0m\n\u001b[1;32m    737\u001b[0m     \u001b[0;32mdef\u001b[0m \u001b[0mgene_ids_of_gene_name\u001b[0m\u001b[0;34m(\u001b[0m\u001b[0mself\u001b[0m\u001b[0;34m,\u001b[0m \u001b[0mgene_name\u001b[0m\u001b[0;34m)\u001b[0m\u001b[0;34m:\u001b[0m\u001b[0;34m\u001b[0m\u001b[0m\n",
      "\u001b[0;32m~/miniconda3/lib/python3.6/site-packages/pyensembl/genome.py\u001b[0m in \u001b[0;36m_all_feature_values\u001b[0;34m(self, column, feature, distinct, contig, strand)\u001b[0m\n\u001b[1;32m    402\u001b[0m         \u001b[0mReturns\u001b[0m \u001b[0ma\u001b[0m \u001b[0mlist\u001b[0m \u001b[0mconstructed\u001b[0m \u001b[0;32mfrom\u001b[0m \u001b[0mquery\u001b[0m \u001b[0mresults\u001b[0m\u001b[0;34m.\u001b[0m\u001b[0;34m\u001b[0m\u001b[0m\n\u001b[1;32m    403\u001b[0m         \"\"\"\n\u001b[0;32m--> 404\u001b[0;31m         \u001b[0;32mif\u001b[0m \u001b[0;32mnot\u001b[0m \u001b[0mself\u001b[0m\u001b[0;34m.\u001b[0m\u001b[0mgtf\u001b[0m\u001b[0;34m:\u001b[0m\u001b[0;34m\u001b[0m\u001b[0m\n\u001b[0m\u001b[1;32m    405\u001b[0m             raise ValueError(\"No GTF supplied to this Genome: %s\" %\n\u001b[1;32m    406\u001b[0m                              str(self))\n",
      "\u001b[0;32m~/miniconda3/lib/python3.6/site-packages/pyensembl/genome.py\u001b[0m in \u001b[0;36mgtf\u001b[0;34m(self)\u001b[0m\n\u001b[1;32m    241\u001b[0m             \u001b[0;31m# make sure GTF  file exists locally\u001b[0m\u001b[0;34m\u001b[0m\u001b[0;34m\u001b[0m\u001b[0m\n\u001b[1;32m    242\u001b[0m             \u001b[0;31m# and populate self.gtf_path\u001b[0m\u001b[0;34m\u001b[0m\u001b[0;34m\u001b[0m\u001b[0m\n\u001b[0;32m--> 243\u001b[0;31m             \u001b[0mself\u001b[0m\u001b[0;34m.\u001b[0m\u001b[0m_set_local_paths\u001b[0m\u001b[0;34m(\u001b[0m\u001b[0;34m)\u001b[0m\u001b[0;34m\u001b[0m\u001b[0m\n\u001b[0m\u001b[1;32m    244\u001b[0m             \u001b[0;32massert\u001b[0m \u001b[0mself\u001b[0m\u001b[0;34m.\u001b[0m\u001b[0mgtf_path\u001b[0m \u001b[0;32mis\u001b[0m \u001b[0;32mnot\u001b[0m \u001b[0;32mNone\u001b[0m\u001b[0;34m\u001b[0m\u001b[0m\n\u001b[1;32m    245\u001b[0m             \u001b[0;31m# GTF object wraps the source GTF file from which we get\u001b[0m\u001b[0;34m\u001b[0m\u001b[0;34m\u001b[0m\u001b[0m\n",
      "\u001b[0;32m~/miniconda3/lib/python3.6/site-packages/pyensembl/genome.py\u001b[0m in \u001b[0;36m_set_local_paths\u001b[0;34m(self, download_if_missing, overwrite)\u001b[0m\n\u001b[1;32m    204\u001b[0m             self.transcript_fasta_path = self._get_transcript_fasta_path(\n\u001b[1;32m    205\u001b[0m                 \u001b[0mdownload_if_missing\u001b[0m\u001b[0;34m=\u001b[0m\u001b[0mdownload_if_missing\u001b[0m\u001b[0;34m,\u001b[0m\u001b[0;34m\u001b[0m\u001b[0m\n\u001b[0;32m--> 206\u001b[0;31m                 overwrite=overwrite)\n\u001b[0m\u001b[1;32m    207\u001b[0m         \u001b[0;32mif\u001b[0m \u001b[0mself\u001b[0m\u001b[0;34m.\u001b[0m\u001b[0mhas_protein_fasta\u001b[0m\u001b[0;34m:\u001b[0m\u001b[0;34m\u001b[0m\u001b[0m\n\u001b[1;32m    208\u001b[0m             self.protein_fasta_path = self._get_protein_fasta_path(\n",
      "\u001b[0;32m~/miniconda3/lib/python3.6/site-packages/pyensembl/genome.py\u001b[0m in \u001b[0;36m_get_transcript_fasta_path\u001b[0;34m(self, download_if_missing, overwrite)\u001b[0m\n\u001b[1;32m    180\u001b[0m             \u001b[0mpath_or_url\u001b[0m\u001b[0;34m=\u001b[0m\u001b[0mself\u001b[0m\u001b[0;34m.\u001b[0m\u001b[0m_transcript_fasta_path_or_url\u001b[0m\u001b[0;34m,\u001b[0m\u001b[0;34m\u001b[0m\u001b[0m\n\u001b[1;32m    181\u001b[0m             \u001b[0mdownload_if_missing\u001b[0m\u001b[0;34m=\u001b[0m\u001b[0mdownload_if_missing\u001b[0m\u001b[0;34m,\u001b[0m\u001b[0;34m\u001b[0m\u001b[0m\n\u001b[0;32m--> 182\u001b[0;31m             overwrite=overwrite)\n\u001b[0m\u001b[1;32m    183\u001b[0m \u001b[0;34m\u001b[0m\u001b[0m\n\u001b[1;32m    184\u001b[0m     def _get_protein_fasta_path(\n",
      "\u001b[0;32m~/miniconda3/lib/python3.6/site-packages/pyensembl/genome.py\u001b[0m in \u001b[0;36m_get_cached_path\u001b[0;34m(self, field_name, path_or_url, download_if_missing, overwrite)\u001b[0m\n\u001b[1;32m    161\u001b[0m             \u001b[0mpath_or_url\u001b[0m\u001b[0;34m=\u001b[0m\u001b[0mpath_or_url\u001b[0m\u001b[0;34m,\u001b[0m\u001b[0;34m\u001b[0m\u001b[0m\n\u001b[1;32m    162\u001b[0m             \u001b[0mdownload_if_missing\u001b[0m\u001b[0;34m=\u001b[0m\u001b[0mdownload_if_missing\u001b[0m\u001b[0;34m,\u001b[0m\u001b[0;34m\u001b[0m\u001b[0m\n\u001b[0;32m--> 163\u001b[0;31m             overwrite=overwrite)\n\u001b[0m\u001b[1;32m    164\u001b[0m \u001b[0;34m\u001b[0m\u001b[0m\n\u001b[1;32m    165\u001b[0m     \u001b[0;32mdef\u001b[0m \u001b[0m_get_gtf_path\u001b[0m\u001b[0;34m(\u001b[0m\u001b[0mself\u001b[0m\u001b[0;34m,\u001b[0m \u001b[0mdownload_if_missing\u001b[0m\u001b[0;34m=\u001b[0m\u001b[0;32mFalse\u001b[0m\u001b[0;34m,\u001b[0m \u001b[0moverwrite\u001b[0m\u001b[0;34m=\u001b[0m\u001b[0;32mFalse\u001b[0m\u001b[0;34m)\u001b[0m\u001b[0;34m:\u001b[0m\u001b[0;34m\u001b[0m\u001b[0m\n",
      "\u001b[0;32m~/miniconda3/lib/python3.6/site-packages/pyensembl/download_cache.py\u001b[0m in \u001b[0;36mlocal_path_or_install_error\u001b[0;34m(self, field_name, path_or_url, download_if_missing, overwrite)\u001b[0m\n\u001b[1;32m    294\u001b[0m                 \u001b[0mpath_or_url\u001b[0m\u001b[0;34m,\u001b[0m\u001b[0;34m\u001b[0m\u001b[0m\n\u001b[1;32m    295\u001b[0m                 \u001b[0mdownload_if_missing\u001b[0m\u001b[0;34m=\u001b[0m\u001b[0mdownload_if_missing\u001b[0m\u001b[0;34m,\u001b[0m\u001b[0;34m\u001b[0m\u001b[0m\n\u001b[0;32m--> 296\u001b[0;31m                 overwrite=overwrite)\n\u001b[0m\u001b[1;32m    297\u001b[0m         \u001b[0;32mexcept\u001b[0m \u001b[0mMissingRemoteFile\u001b[0m\u001b[0;34m:\u001b[0m\u001b[0;34m\u001b[0m\u001b[0m\n\u001b[1;32m    298\u001b[0m             \u001b[0mself\u001b[0m\u001b[0;34m.\u001b[0m\u001b[0m_raise_missing_file_error\u001b[0m\u001b[0;34m(\u001b[0m\u001b[0;34m{\u001b[0m\u001b[0mfield_name\u001b[0m\u001b[0;34m:\u001b[0m \u001b[0mpath_or_url\u001b[0m\u001b[0;34m}\u001b[0m\u001b[0;34m)\u001b[0m\u001b[0;34m\u001b[0m\u001b[0m\n",
      "\u001b[0;32m~/miniconda3/lib/python3.6/site-packages/pyensembl/download_cache.py\u001b[0m in \u001b[0;36mdownload_or_copy_if_necessary\u001b[0;34m(self, path_or_url, download_if_missing, overwrite)\u001b[0m\n\u001b[1;32m    271\u001b[0m                 overwrite)\n\u001b[1;32m    272\u001b[0m         \u001b[0;32melse\u001b[0m\u001b[0;34m:\u001b[0m\u001b[0;34m\u001b[0m\u001b[0m\n\u001b[0;32m--> 273\u001b[0;31m             \u001b[0;32mreturn\u001b[0m \u001b[0mself\u001b[0m\u001b[0;34m.\u001b[0m\u001b[0m_copy_if_necessary\u001b[0m\u001b[0;34m(\u001b[0m\u001b[0mpath_or_url\u001b[0m\u001b[0;34m,\u001b[0m \u001b[0moverwrite\u001b[0m\u001b[0;34m)\u001b[0m\u001b[0;34m\u001b[0m\u001b[0m\n\u001b[0m\u001b[1;32m    274\u001b[0m \u001b[0;34m\u001b[0m\u001b[0m\n\u001b[1;32m    275\u001b[0m     \u001b[0;32mdef\u001b[0m \u001b[0m_raise_missing_file_error\u001b[0m\u001b[0;34m(\u001b[0m\u001b[0mself\u001b[0m\u001b[0;34m,\u001b[0m \u001b[0mmissing_urls_dict\u001b[0m\u001b[0;34m)\u001b[0m\u001b[0;34m:\u001b[0m\u001b[0;34m\u001b[0m\u001b[0m\n",
      "\u001b[0;32m~/miniconda3/lib/python3.6/site-packages/pyensembl/download_cache.py\u001b[0m in \u001b[0;36m_copy_if_necessary\u001b[0;34m(self, local_path, overwrite)\u001b[0m\n\u001b[1;32m    228\u001b[0m         \u001b[0mlocal_path\u001b[0m \u001b[0;34m=\u001b[0m \u001b[0mabspath\u001b[0m\u001b[0;34m(\u001b[0m\u001b[0mlocal_path\u001b[0m\u001b[0;34m)\u001b[0m\u001b[0;34m\u001b[0m\u001b[0m\n\u001b[1;32m    229\u001b[0m         \u001b[0;32mif\u001b[0m \u001b[0;32mnot\u001b[0m \u001b[0mexists\u001b[0m\u001b[0;34m(\u001b[0m\u001b[0mlocal_path\u001b[0m\u001b[0;34m)\u001b[0m\u001b[0;34m:\u001b[0m\u001b[0;34m\u001b[0m\u001b[0m\n\u001b[0;32m--> 230\u001b[0;31m             \u001b[0;32mraise\u001b[0m \u001b[0mMissingLocalFile\u001b[0m\u001b[0;34m(\u001b[0m\u001b[0mlocal_path\u001b[0m\u001b[0;34m)\u001b[0m\u001b[0;34m\u001b[0m\u001b[0m\n\u001b[0m\u001b[1;32m    231\u001b[0m         \u001b[0;32melif\u001b[0m \u001b[0;32mnot\u001b[0m \u001b[0mself\u001b[0m\u001b[0;34m.\u001b[0m\u001b[0mcopy_local_files_to_cache\u001b[0m\u001b[0;34m:\u001b[0m\u001b[0;34m\u001b[0m\u001b[0m\n\u001b[1;32m    232\u001b[0m             \u001b[0;32mreturn\u001b[0m \u001b[0mlocal_path\u001b[0m\u001b[0;34m\u001b[0m\u001b[0m\n",
      "\u001b[0;31mMissingLocalFile\u001b[0m: MissingFile(/Users/veronikakotova/gfeat/data/hg38_chr22.fa)"
     ],
     "output_type": "error"
    }
   ],
   "source": [
    "data.gene_ids(1, '-')"
   ]
  },
  {
   "cell_type": "code",
   "execution_count": 10,
   "metadata": {},
   "outputs": [],
   "source": [
    "data = Genome(reference_name=\"hg38\", annotation_name=\"hg38_chr22\", \n",
    "              gtf_path_or_url=\"/Users/veronikakotova/gfeat/tests/data/gencode.v24.annotation_chr22.gtf\", \n",
    "              transcript_fasta_path_or_url=\"/Users/veronikakotova/gfeat/tests/data/hg38_chr22.fa\")"
   ]
  },
  {
   "cell_type": "code",
   "execution_count": 11,
   "metadata": {},
   "outputs": [
    {
     "data": {
      "text/plain": [
       "[]"
      ]
     },
     "execution_count": 11,
     "metadata": {},
     "output_type": "execute_result"
    }
   ],
   "source": [
    "data.gene_ids(1, '-')"
   ]
  },
  {
   "cell_type": "code",
   "execution_count": 12,
   "metadata": {},
   "outputs": [
    {
     "ename": "TypeError",
     "evalue": "'Database' object is not callable",
     "traceback": [
      "\u001b[0;31m---------------------------------------------------------------------------\u001b[0m",
      "\u001b[0;31mTypeError\u001b[0m                                 Traceback (most recent call last)",
      "\u001b[0;32m<ipython-input-12-ab347b1997ab>\u001b[0m in \u001b[0;36m<module>\u001b[0;34m()\u001b[0m\n\u001b[0;32m----> 1\u001b[0;31m \u001b[0mdata\u001b[0m\u001b[0;34m.\u001b[0m\u001b[0mdb\u001b[0m\u001b[0;34m(\u001b[0m\u001b[0;34m)\u001b[0m\u001b[0;34m\u001b[0m\u001b[0m\n\u001b[0m",
      "\u001b[0;31mTypeError\u001b[0m: 'Database' object is not callable"
     ],
     "output_type": "error"
    }
   ],
   "source": [
    "data.db()"
   ]
  },
  {
   "cell_type": "code",
   "execution_count": 13,
   "metadata": {},
   "outputs": [
    {
     "data": {
      "text/plain": [
       "<bound method Genome.contigs of Genome(reference_name=hg38, annotation_name=hg38_chr22, annotation_version=None, gtf_path_or_url=/Users/veronikakotova/gfeat/tests/data/gencode.v24.annotation_chr22.gtf, transcript_fasta_path_or_url=/Users/veronikakotova/gfeat/tests/data/hg38_chr22.fa, protein_fasta_path_or_url=None)>"
      ]
     },
     "execution_count": 13,
     "metadata": {},
     "output_type": "execute_result"
    }
   ],
   "source": [
    "data.contigs"
   ]
  },
  {
   "cell_type": "code",
   "execution_count": 14,
   "metadata": {},
   "outputs": [
    {
     "data": {
      "text/plain": [
       "['22']"
      ]
     },
     "execution_count": 14,
     "metadata": {},
     "output_type": "execute_result"
    }
   ],
   "source": [
    "data.contigs()"
   ]
  },
  {
   "cell_type": "code",
   "execution_count": 15,
   "metadata": {},
   "outputs": [
    {
     "data": {
      "text/plain": [
       "['ENSG00000277248.1',\n",
       " 'ENSG00000274237.1',\n",
       " 'ENSG00000283047.1',\n",
       " 'ENSG00000280363.1',\n",
       " 'ENSG00000276871.1',\n",
       " 'ENSG00000277683.1',\n",
       " 'ENSG00000277821.1',\n",
       " 'ENSG00000278534.1',\n",
       " 'ENSG00000278398.1',\n",
       " 'ENSG00000277861.1',\n",
       " 'ENSG00000274773.1',\n",
       " 'ENSG00000277372.1',\n",
       " 'ENSG00000275065.1',\n",
       " 'ENSG00000280341.1',\n",
       " 'ENSG00000279442.1',\n",
       " 'ENSG00000184624.4',\n",
       " 'ENSG00000235759.1',\n",
       " 'ENSG00000233408.1',\n",
       " 'ENSG00000215268.3',\n",
       " 'ENSG00000213727.3',\n",
       " 'ENSG00000230471.1',\n",
       " 'ENSG00000231565.1',\n",
       " 'ENSG00000226474.1',\n",
       " 'ENSG00000224435.2',\n",
       " 'ENSG00000234381.1',\n",
       " 'ENSG00000236666.1',\n",
       " 'ENSG00000235992.1',\n",
       " 'ENSG00000232775.6',\n",
       " 'ENSG00000215270.3',\n",
       " 'ENSG00000233866.1',\n",
       " 'ENSG00000227367.1',\n",
       " 'ENSG00000239435.2',\n",
       " 'ENSG00000198445.4',\n",
       " 'ENSG00000240122.1',\n",
       " 'ENSG00000221084.1',\n",
       " 'ENSG00000249288.1',\n",
       " 'ENSG00000249263.2',\n",
       " 'ENSG00000189295.13',\n",
       " 'ENSG00000259271.1',\n",
       " 'ENSG00000273244.1',\n",
       " 'ENSG00000241717.1',\n",
       " 'ENSG00000235343.1',\n",
       " 'ENSG00000172967.7',\n",
       " 'ENSG00000220248.1',\n",
       " 'ENSG00000228122.1',\n",
       " 'ENSG00000237358.1',\n",
       " 'ENSG00000230481.2',\n",
       " 'ENSG00000253691.2',\n",
       " 'ENSG00000253460.2',\n",
       " 'ENSG00000254264.2',\n",
       " 'ENSG00000253481.2',\n",
       " 'ENSG00000280156.1',\n",
       " 'ENSG00000215568.7',\n",
       " 'ENSG00000276400.1',\n",
       " 'ENSG00000235328.1',\n",
       " 'ENSG00000183307.3',\n",
       " 'ENSG00000069998.12',\n",
       " 'ENSG00000093072.15',\n",
       " 'ENSG00000241832.1',\n",
       " 'ENSG00000239547.3',\n",
       " 'ENSG00000232305.1',\n",
       " 'ENSG00000228045.1',\n",
       " 'ENSG00000236754.5',\n",
       " 'ENSG00000131100.12',\n",
       " 'ENSG00000015475.18',\n",
       " 'ENSG00000264757.1',\n",
       " 'ENSG00000243156.7',\n",
       " 'ENSG00000093100.13',\n",
       " 'ENSG00000207780.1',\n",
       " 'ENSG00000235445.1',\n",
       " 'ENSG00000234913.1',\n",
       " 'ENSG00000225335.3',\n",
       " 'ENSG00000236890.2',\n",
       " 'ENSG00000225225.1',\n",
       " 'ENSG00000280007.1',\n",
       " 'ENSG00000187979.4',\n",
       " 'ENSG00000274044.4',\n",
       " 'ENSG00000275060.1',\n",
       " 'ENSG00000277017.1',\n",
       " 'ENSG00000278044.1',\n",
       " 'ENSG00000274252.1',\n",
       " 'ENSG00000274602.4',\n",
       " 'ENSG00000222630.2',\n",
       " 'ENSG00000275793.1',\n",
       " 'ENSG00000278110.1',\n",
       " 'ENSG00000273907.1',\n",
       " 'ENSG00000273643.1',\n",
       " 'ENSG00000197421.9',\n",
       " 'ENSG00000239989.1',\n",
       " 'ENSG00000215544.6',\n",
       " 'ENSG00000276095.2',\n",
       " 'ENSG00000279987.1',\n",
       " 'ENSG00000100033.16',\n",
       " 'ENSG00000280418.1',\n",
       " 'ENSG00000271275.1',\n",
       " 'ENSG00000270393.1',\n",
       " 'ENSG00000241527.1',\n",
       " 'ENSG00000070413.18',\n",
       " 'ENSG00000273311.1',\n",
       " 'ENSG00000281530.1',\n",
       " 'ENSG00000272682.1',\n",
       " 'ENSG00000100056.11',\n",
       " 'ENSG00000063515.2',\n",
       " 'ENSG00000100075.9',\n",
       " 'ENSG00000070371.15',\n",
       " 'ENSG00000230194.1',\n",
       " 'ENSG00000100084.14',\n",
       " 'ENSG00000242259.8',\n",
       " 'ENSG00000070010.18',\n",
       " 'ENSG00000184113.9',\n",
       " 'ENSG00000281548.1',\n",
       " 'ENSG00000230485.1',\n",
       " 'ENSG00000185838.13',\n",
       " 'ENSG00000215012.8',\n",
       " 'ENSG00000184470.20',\n",
       " 'ENSG00000099889.13',\n",
       " 'ENSG00000236540.7',\n",
       " 'ENSG00000268292.1',\n",
       " 'ENSG00000243762.1',\n",
       " 'ENSG00000099899.14',\n",
       " 'ENSG00000278278.1',\n",
       " 'ENSG00000234409.6',\n",
       " 'ENSG00000249923.1',\n",
       " 'ENSG00000040608.13',\n",
       " 'ENSG00000221039.2',\n",
       " 'ENSG00000128185.9',\n",
       " 'ENSG00000273343.1',\n",
       " 'ENSG00000235578.1',\n",
       " 'ENSG00000161133.16',\n",
       " 'ENSG00000207343.1',\n",
       " 'ENSG00000244486.7',\n",
       " 'ENSG00000277971.1',\n",
       " 'ENSG00000099910.16',\n",
       " 'ENSG00000255156.1',\n",
       " 'ENSG00000242876.3',\n",
       " 'ENSG00000236670.1',\n",
       " 'ENSG00000265300.1',\n",
       " 'ENSG00000236003.1',\n",
       " 'ENSG00000250261.1',\n",
       " 'ENSG00000223553.5',\n",
       " 'ENSG00000229107.2',\n",
       " 'ENSG00000235062.4',\n",
       " 'ENSG00000241973.10',\n",
       " 'ENSG00000272600.1',\n",
       " 'ENSG00000272829.1',\n",
       " 'ENSG00000184436.11',\n",
       " 'ENSG00000161149.11',\n",
       " 'ENSG00000099960.12',\n",
       " 'ENSG00000207575.1',\n",
       " 'ENSG00000206145.8',\n",
       " 'ENSG00000197210.7',\n",
       " 'ENSG00000239511.2',\n",
       " 'ENSG00000224688.1',\n",
       " 'ENSG00000234503.1',\n",
       " 'ENSG00000133475.16',\n",
       " 'ENSG00000169662.8',\n",
       " 'ENSG00000206142.9',\n",
       " 'ENSG00000273846.1',\n",
       " 'ENSG00000252020.1',\n",
       " 'ENSG00000275840.1',\n",
       " 'ENSG00000183506.16',\n",
       " 'ENSG00000222352.1',\n",
       " 'ENSG00000183246.6',\n",
       " 'ENSG00000161179.13',\n",
       " 'ENSG00000100027.14',\n",
       " 'ENSG00000244671.3',\n",
       " 'ENSG00000100030.14',\n",
       " 'ENSG00000225544.1',\n",
       " 'ENSG00000100034.13',\n",
       " 'ENSG00000100038.19',\n",
       " 'ENSG00000197549.9',\n",
       " 'ENSG00000263366.2',\n",
       " 'ENSG00000224465.1',\n",
       " 'ENSG00000228050.1',\n",
       " 'ENSG00000234726.1',\n",
       " 'ENSG00000274422.1',\n",
       " 'ENSG00000275004.3',\n",
       " 'ENSG00000169548.3',\n",
       " 'ENSG00000185686.17',\n",
       " 'ENSG00000183169.6',\n",
       " 'ENSG00000223999.1',\n",
       " 'ENSG00000278667.1',\n",
       " 'ENSG00000275772.1',\n",
       " 'ENSG00000100218.11',\n",
       " 'ENSG00000275635.1',\n",
       " 'ENSG00000236794.5',\n",
       " 'ENSG00000240160.3',\n",
       " 'ENSG00000214526.3',\n",
       " 'ENSG00000215478.8',\n",
       " 'ENSG00000133519.12',\n",
       " 'ENSG00000178248.11',\n",
       " 'ENSG00000225413.2',\n",
       " 'ENSG00000128322.6',\n",
       " 'ENSG00000272733.1',\n",
       " 'ENSG00000189269.12',\n",
       " 'ENSG00000211683.3',\n",
       " 'ENSG00000228315.11',\n",
       " 'ENSG00000234353.2',\n",
       " 'ENSG00000244723.3',\n",
       " 'ENSG00000273000.5',\n",
       " 'ENSG00000272578.5',\n",
       " 'ENSG00000187792.4',\n",
       " 'ENSG00000128218.7',\n",
       " 'ENSG00000250479.8',\n",
       " 'ENSG00000280178.1',\n",
       " 'ENSG00000099958.14',\n",
       " 'ENSG00000272973.1',\n",
       " 'ENSG00000279467.1',\n",
       " 'ENSG00000244425.3',\n",
       " 'ENSG00000218537.1',\n",
       " 'ENSG00000273295.1',\n",
       " 'ENSG00000133433.10',\n",
       " 'ENSG00000099977.13',\n",
       " 'ENSG00000250470.1',\n",
       " 'ENSG00000224205.1',\n",
       " 'ENSG00000276950.4',\n",
       " 'ENSG00000235689.1',\n",
       " 'ENSG00000099998.17',\n",
       " 'ENSG00000230712.2',\n",
       " 'ENSG00000225098.1',\n",
       " 'ENSG00000215464.4',\n",
       " 'ENSG00000178803.10',\n",
       " 'ENSG00000138867.16',\n",
       " 'ENSG00000178026.12',\n",
       " 'ENSG00000224124.3',\n",
       " 'ENSG00000282012.1',\n",
       " 'ENSG00000184571.13',\n",
       " 'ENSG00000199783.1',\n",
       " 'ENSG00000206069.5',\n",
       " 'ENSG00000279085.1',\n",
       " 'ENSG00000279548.1',\n",
       " 'ENSG00000279006.1',\n",
       " 'ENSG00000279110.1',\n",
       " 'ENSG00000203280.4',\n",
       " 'ENSG00000271181.1',\n",
       " 'ENSG00000279298.1',\n",
       " 'ENSG00000233577.6',\n",
       " 'ENSG00000231466.2',\n",
       " 'ENSG00000100068.11',\n",
       " 'ENSG00000272942.1',\n",
       " 'ENSG00000271138.1',\n",
       " 'ENSG00000265978.1',\n",
       " 'ENSG00000234884.1',\n",
       " 'ENSG00000237387.1',\n",
       " 'ENSG00000222585.1',\n",
       " 'ENSG00000278960.1',\n",
       " 'ENSG00000231933.7',\n",
       " 'ENSG00000264925.1',\n",
       " 'ENSG00000232464.1',\n",
       " 'ENSG00000223056.1',\n",
       " 'ENSG00000232050.1',\n",
       " 'ENSG00000229770.1',\n",
       " 'ENSG00000224192.2',\n",
       " 'ENSG00000252267.1',\n",
       " 'ENSG00000230203.1',\n",
       " 'ENSG00000100099.20',\n",
       " 'ENSG00000100109.16',\n",
       " 'ENSG00000128294.15',\n",
       " 'ENSG00000221760.1',\n",
       " 'ENSG00000100122.5',\n",
       " 'ENSG00000226912.1',\n",
       " 'ENSG00000206028.1',\n",
       " 'ENSG00000231369.1',\n",
       " 'ENSG00000236858.1',\n",
       " 'ENSG00000233521.5',\n",
       " 'ENSG00000223726.1',\n",
       " 'ENSG00000280445.1',\n",
       " 'ENSG00000227880.1',\n",
       " 'ENSG00000224027.1',\n",
       " 'ENSG00000227838.1',\n",
       " 'ENSG00000169184.5',\n",
       " 'ENSG00000180957.17',\n",
       " 'ENSG00000264073.1',\n",
       " 'ENSG00000100154.14',\n",
       " 'ENSG00000239249.3',\n",
       " 'ENSG00000201209.1',\n",
       " 'ENSG00000266503.2',\n",
       " 'ENSG00000183765.20',\n",
       " 'ENSG00000100219.16',\n",
       " 'ENSG00000280977.1',\n",
       " 'ENSG00000224256.1',\n",
       " 'ENSG00000177993.3',\n",
       " 'ENSG00000100249.4',\n",
       " 'ENSG00000226772.1',\n",
       " 'ENSG00000281592.1',\n",
       " 'ENSG00000251952.1',\n",
       " 'ENSG00000100263.13',\n",
       " 'ENSG00000100276.9',\n",
       " 'ENSG00000273216.1',\n",
       " 'ENSG00000100280.16',\n",
       " 'ENSG00000280968.1',\n",
       " 'ENSG00000239127.1',\n",
       " 'ENSG00000242156.1',\n",
       " 'ENSG00000225465.8',\n",
       " 'ENSG00000282816.1',\n",
       " 'ENSG00000100296.13',\n",
       " 'ENSG00000234208.1',\n",
       " 'ENSG00000184117.11',\n",
       " 'ENSG00000232396.2',\n",
       " 'ENSG00000239446.1',\n",
       " 'ENSG00000100319.12',\n",
       " 'ENSG00000100325.14',\n",
       " 'ENSG00000207455.1',\n",
       " 'ENSG00000279159.1',\n",
       " 'ENSG00000227117.6',\n",
       " 'ENSG00000227201.2',\n",
       " 'ENSG00000226573.1',\n",
       " 'ENSG00000225971.1',\n",
       " 'ENSG00000225676.1',\n",
       " 'ENSG00000128342.4',\n",
       " 'ENSG00000099985.3',\n",
       " 'ENSG00000279699.1',\n",
       " 'ENSG00000239282.7',\n",
       " 'ENSG00000248751.6',\n",
       " 'ENSG00000099992.15',\n",
       " 'ENSG00000099995.18',\n",
       " 'ENSG00000099999.14',\n",
       " 'ENSG00000272689.1',\n",
       " 'ENSG00000100012.11',\n",
       " 'ENSG00000214161.3',\n",
       " 'ENSG00000133488.14',\n",
       " 'ENSG00000214491.8',\n",
       " 'ENSG00000128242.12',\n",
       " 'ENSG00000100029.17',\n",
       " 'ENSG00000167065.13',\n",
       " 'ENSG00000250318.1',\n",
       " 'ENSG00000133422.12',\n",
       " 'ENSG00000269987.1',\n",
       " 'ENSG00000269972.1',\n",
       " 'ENSG00000273387.1',\n",
       " 'ENSG00000198832.10',\n",
       " 'ENSG00000100078.3',\n",
       " 'ENSG00000214125.2',\n",
       " 'ENSG00000264141.1',\n",
       " 'ENSG00000254835.1',\n",
       " 'ENSG00000199695.1',\n",
       " 'ENSG00000202019.1',\n",
       " 'ENSG00000100100.12',\n",
       " 'ENSG00000100105.17',\n",
       " 'ENSG00000206615.1',\n",
       " 'ENSG00000184708.17',\n",
       " 'ENSG00000199248.1',\n",
       " 'ENSG00000233733.1',\n",
       " 'ENSG00000229169.1',\n",
       " 'ENSG00000241878.9',\n",
       " 'ENSG00000275382.1',\n",
       " 'ENSG00000183530.13',\n",
       " 'ENSG00000236132.1',\n",
       " 'ENSG00000227813.1',\n",
       " 'ENSG00000128254.12',\n",
       " 'ENSG00000240647.3',\n",
       " 'ENSG00000205856.3',\n",
       " 'ENSG00000230120.1',\n",
       " 'ENSG00000275656.1',\n",
       " 'ENSG00000128253.13',\n",
       " 'ENSG00000100191.5',\n",
       " 'ENSG00000234626.1',\n",
       " 'ENSG00000271093.1',\n",
       " 'ENSG00000205853.10',\n",
       " 'ENSG00000100220.11',\n",
       " 'ENSG00000184459.8',\n",
       " 'ENSG00000185666.14',\n",
       " 'ENSG00000251890.1',\n",
       " 'ENSG00000228622.1',\n",
       " 'ENSG00000133424.20',\n",
       " 'ENSG00000266012.1',\n",
       " 'ENSG00000253007.2',\n",
       " 'ENSG00000281295.1',\n",
       " 'ENSG00000232081.1',\n",
       " 'ENSG00000224404.1',\n",
       " 'ENSG00000235485.1',\n",
       " 'ENSG00000234891.1',\n",
       " 'ENSG00000237316.1',\n",
       " 'ENSG00000227895.5',\n",
       " 'ENSG00000233080.2',\n",
       " 'ENSG00000243453.1',\n",
       " 'ENSG00000273176.1',\n",
       " 'ENSG00000274280.1',\n",
       " 'ENSG00000233388.2',\n",
       " 'ENSG00000198125.12',\n",
       " 'ENSG00000268818.2',\n",
       " 'ENSG00000100320.22',\n",
       " 'ENSG00000237406.1',\n",
       " 'ENSG00000279805.1',\n",
       " 'ENSG00000128284.19',\n",
       " 'ENSG00000100336.17',\n",
       " 'ENSG00000128335.13',\n",
       " 'ENSG00000100345.20',\n",
       " 'ENSG00000278420.1',\n",
       " 'ENSG00000237668.1',\n",
       " 'ENSG00000252575.1',\n",
       " 'ENSG00000252225.1',\n",
       " 'ENSG00000228719.1',\n",
       " 'ENSG00000100348.9',\n",
       " 'ENSG00000100350.14',\n",
       " 'ENSG00000100353.17',\n",
       " 'ENSG00000188078.5',\n",
       " 'ENSG00000261675.1',\n",
       " 'ENSG00000166862.6',\n",
       " 'ENSG00000100360.14',\n",
       " 'ENSG00000100362.12',\n",
       " 'ENSG00000183822.3',\n",
       " 'ENSG00000232254.1',\n",
       " 'ENSG00000185264.11',\n",
       " 'ENSG00000128311.13',\n",
       " 'ENSG00000201078.1',\n",
       " 'ENSG00000187045.16',\n",
       " 'ENSG00000100385.13',\n",
       " 'ENSG00000133466.13',\n",
       " 'ENSG00000278195.1',\n",
       " 'ENSG00000226233.1',\n",
       " 'ENSG00000128340.14',\n",
       " 'ENSG00000243902.6',\n",
       " 'ENSG00000237862.1',\n",
       " 'ENSG00000166897.14',\n",
       " 'ENSG00000100060.17',\n",
       " 'ENSG00000100065.14',\n",
       " 'ENSG00000100079.6',\n",
       " 'ENSG00000233360.4',\n",
       " 'ENSG00000241333.3',\n",
       " 'ENSG00000100124.12',\n",
       " 'ENSG00000207945.1',\n",
       " 'ENSG00000207696.1',\n",
       " 'ENSG00000128346.10',\n",
       " 'ENSG00000100146.16',\n",
       " 'ENSG00000222044.1',\n",
       " 'ENSG00000233739.1',\n",
       " 'ENSG00000100156.10',\n",
       " 'ENSG00000128298.16',\n",
       " 'ENSG00000184381.18',\n",
       " 'ENSG00000198792.12',\n",
       " 'ENSG00000265311.1',\n",
       " 'ENSG00000277385.1',\n",
       " 'ENSG00000213923.10',\n",
       " 'ENSG00000244627.5',\n",
       " 'ENSG00000229955.1',\n",
       " 'ENSG00000168135.4',\n",
       " 'ENSG00000100201.19',\n",
       " 'ENSG00000100206.9',\n",
       " 'ENSG00000224279.2',\n",
       " 'ENSG00000184949.15',\n",
       " 'ENSG00000230912.1',\n",
       " 'ENSG00000228274.3',\n",
       " 'ENSG00000100221.10',\n",
       " 'ENSG00000229598.1',\n",
       " 'ENSG00000100242.15',\n",
       " 'ENSG00000273096.1',\n",
       " 'ENSG00000100246.12',\n",
       " 'ENSG00000221890.2',\n",
       " 'ENSG00000183741.11',\n",
       " 'ENSG00000249310.2',\n",
       " 'ENSG00000100307.12',\n",
       " 'ENSG00000226024.1',\n",
       " 'ENSG00000100311.16',\n",
       " 'ENSG00000100316.15',\n",
       " 'ENSG00000209480.1',\n",
       " 'ENSG00000209482.1',\n",
       " 'ENSG00000280859.1',\n",
       " 'ENSG00000263764.1',\n",
       " 'ENSG00000227188.1',\n",
       " 'ENSG00000187051.8',\n",
       " 'ENSG00000176177.9',\n",
       " 'ENSG00000238875.1',\n",
       " 'ENSG00000261202.1',\n",
       " 'ENSG00000228599.1',\n",
       " 'ENSG00000229999.6',\n",
       " 'ENSG00000196588.14',\n",
       " 'ENSG00000252124.1',\n",
       " 'ENSG00000230071.2',\n",
       " 'ENSG00000231907.2',\n",
       " 'ENSG00000100372.14',\n",
       " 'ENSG00000230769.1',\n",
       " 'ENSG00000266594.1',\n",
       " 'ENSG00000100380.12',\n",
       " 'ENSG00000172404.4',\n",
       " 'ENSG00000280863.1',\n",
       " 'ENSG00000199515.1',\n",
       " 'ENSG00000213857.3',\n",
       " 'ENSG00000232754.1',\n",
       " 'ENSG00000231993.1',\n",
       " 'ENSG00000215771.2',\n",
       " 'ENSG00000235513.1',\n",
       " 'ENSG00000100399.15',\n",
       " 'ENSG00000100401.19',\n",
       " 'ENSG00000274552.1',\n",
       " 'ENSG00000199865.1',\n",
       " 'ENSG00000183864.4',\n",
       " 'ENSG00000100410.7',\n",
       " 'ENSG00000100413.16',\n",
       " 'ENSG00000100417.11',\n",
       " 'ENSG00000100418.7',\n",
       " 'ENSG00000200332.1',\n",
       " 'ENSG00000100138.13',\n",
       " 'ENSG00000231261.1',\n",
       " 'ENSG00000252603.1',\n",
       " 'ENSG00000184068.2',\n",
       " 'ENSG00000234965.2',\n",
       " 'ENSG00000159958.4',\n",
       " 'ENSG00000263463.1',\n",
       " 'ENSG00000100162.14',\n",
       " 'ENSG00000224883.1',\n",
       " 'ENSG00000215347.3',\n",
       " 'ENSG00000198951.11',\n",
       " 'ENSG00000238498.1',\n",
       " 'ENSG00000184983.9',\n",
       " 'ENSG00000270083.1',\n",
       " 'ENSG00000213790.2',\n",
       " 'ENSG00000100197.20',\n",
       " 'ENSG00000232710.1',\n",
       " 'ENSG00000205702.10',\n",
       " 'ENSG00000226450.2',\n",
       " 'ENSG00000100207.18',\n",
       " 'ENSG00000229891.1',\n",
       " 'ENSG00000235568.6',\n",
       " 'ENSG00000189306.10',\n",
       " 'ENSG00000265106.1',\n",
       " 'ENSG00000182841.12',\n",
       " 'ENSG00000202058.1',\n",
       " 'ENSG00000251913.1',\n",
       " 'ENSG00000100227.17',\n",
       " 'ENSG00000100243.20',\n",
       " 'ENSG00000249222.1',\n",
       " 'ENSG00000128274.15',\n",
       " 'ENSG00000200448.1',\n",
       " 'ENSG00000234009.1',\n",
       " 'ENSG00000274717.1',\n",
       " 'ENSG00000242247.10',\n",
       " 'ENSG00000100266.18',\n",
       " 'ENSG00000226989.1',\n",
       " 'ENSG00000100271.16',\n",
       " 'ENSG00000100294.12',\n",
       " 'ENSG00000100304.12',\n",
       " 'ENSG00000159307.18',\n",
       " 'ENSG00000186976.14',\n",
       " 'ENSG00000233157.1',\n",
       " 'ENSG00000130540.13',\n",
       " 'ENSG00000100341.11',\n",
       " 'ENSG00000266837.1',\n",
       " 'ENSG00000279933.1',\n",
       " 'ENSG00000280011.1',\n",
       " 'ENSG00000138944.7',\n",
       " 'ENSG00000236079.1',\n",
       " 'ENSG00000228807.1',\n",
       " 'ENSG00000279642.1',\n",
       " 'ENSG00000188636.3',\n",
       " 'ENSG00000234300.1',\n",
       " 'ENSG00000056487.15',\n",
       " 'ENSG00000230922.1',\n",
       " 'ENSG00000226328.6',\n",
       " 'ENSG00000273243.1',\n",
       " 'ENSG00000100364.18',\n",
       " 'ENSG00000221598.2',\n",
       " 'ENSG00000273287.2',\n",
       " 'ENSG00000077935.16',\n",
       " 'ENSG00000232363.1',\n",
       " 'ENSG00000238120.1',\n",
       " 'ENSG00000251985.1',\n",
       " 'ENSG00000235347.1',\n",
       " 'ENSG00000235091.1',\n",
       " 'ENSG00000188064.9',\n",
       " 'ENSG00000265610.1',\n",
       " 'ENSG00000231711.2',\n",
       " 'ENSG00000182257.6',\n",
       " 'ENSG00000231010.1',\n",
       " 'ENSG00000235159.1',\n",
       " 'ENSG00000205643.10',\n",
       " 'ENSG00000130943.6',\n",
       " 'ENSG00000277232.2',\n",
       " 'ENSG00000075275.16',\n",
       " 'ENSG00000230634.1',\n",
       " 'ENSG00000100422.13',\n",
       " 'ENSG00000260708.1',\n",
       " 'ENSG00000280080.1',\n",
       " 'ENSG00000278881.1',\n",
       " 'ENSG00000218357.3',\n",
       " 'ENSG00000205634.6',\n",
       " 'ENSG00000232897.2',\n",
       " 'ENSG00000235154.1',\n",
       " 'ENSG00000238192.1',\n",
       " 'ENSG00000281732.1',\n",
       " 'ENSG00000251912.1',\n",
       " 'ENSG00000226142.2',\n",
       " 'ENSG00000188511.12',\n",
       " 'ENSG00000264139.1',\n",
       " 'ENSG00000213279.2',\n",
       " 'ENSG00000235111.1',\n",
       " 'ENSG00000226954.1',\n",
       " 'ENSG00000214727.2',\n",
       " 'ENSG00000100425.18',\n",
       " 'ENSG00000260613.1',\n",
       " 'ENSG00000182858.13',\n",
       " 'ENSG00000278869.1',\n",
       " 'ENSG00000188263.10',\n",
       " 'ENSG00000138892.11',\n",
       " 'ENSG00000100427.15',\n",
       " 'ENSG00000273188.1',\n",
       " 'ENSG00000273253.2',\n",
       " 'ENSG00000272836.1',\n",
       " 'ENSG00000273137.1',\n",
       " 'ENSG00000128159.11',\n",
       " 'ENSG00000100429.17',\n",
       " 'ENSG00000188130.13',\n",
       " 'ENSG00000185386.14',\n",
       " 'ENSG00000196576.14',\n",
       " 'ENSG00000205593.11',\n",
       " 'ENSG00000100241.20',\n",
       " 'ENSG00000100258.17',\n",
       " 'ENSG00000130489.12',\n",
       " 'ENSG00000025708.13',\n",
       " 'ENSG00000177989.13',\n",
       " 'ENSG00000272666.1',\n",
       " 'ENSG00000217442.3',\n",
       " 'ENSG00000205560.12',\n",
       " 'ENSG00000254413.8',\n",
       " 'ENSG00000100288.19',\n",
       " 'ENSG00000100299.17',\n",
       " 'ENSG00000206841.1',\n",
       " 'ENSG00000225929.1',\n",
       " 'ENSG00000254499.1',\n",
       " 'ENSG00000213683.4',\n",
       " 'ENSG00000079974.17']"
      ]
     },
     "execution_count": 15,
     "metadata": {},
     "output_type": "execute_result"
    }
   ],
   "source": [
    "data.gene_ids(22, '-')"
   ]
  },
  {
   "cell_type": "code",
   "execution_count": 46,
   "metadata": {},
   "outputs": [],
   "source": [
    "tr = data.transcripts(22, '-')"
>>>>>>> 1c7049b67f72570d2c562b506265ec0849eeca1c
   ]
  },
  {
   "cell_type": "code",
   "execution_count": null,
<<<<<<< HEAD
   "metadata": {
    "collapsed": true
   },
=======
   "metadata": {},
>>>>>>> 1c7049b67f72570d2c562b506265ec0849eeca1c
   "outputs": [],
   "source": []
  },
  {
   "cell_type": "code",
<<<<<<< HEAD
   "execution_count": 2,
   "metadata": {
    "collapsed": true,
    "deletable": true,
    "editable": true
   },
   "outputs": [],
   "source": [
    "data = pyensembl.Genome(reference_name='hg38',\n",
    "    annotation_name='hg38_chr22',\n",
    "    gtf_path_or_url='/s/genomes/human/hg38/Homo_sapiens.GRCh38.79.gtf',\n",
    "    transcript_fasta_path_or_url = '/s/genomes/human/hg38/hg38.fa'\n",
    "    )"
=======
   "execution_count": 44,
   "metadata": {},
   "outputs": [],
   "source": [
    "tr.contains_stop_codon"
>>>>>>> 1c7049b67f72570d2c562b506265ec0849eeca1c
   ]
  },
  {
   "cell_type": "code",
   "execution_count": null,
<<<<<<< HEAD
   "metadata": {
    "collapsed": true
   },
=======
   "metadata": {},
>>>>>>> 1c7049b67f72570d2c562b506265ec0849eeca1c
   "outputs": [],
   "source": []
  },
  {
<<<<<<< HEAD
   "cell_type": "code",
   "execution_count": 3,
   "metadata": {
    "collapsed": false,
    "deletable": true,
    "editable": true
   },
   "outputs": [
    {
     "ename": "ValueError",
     "evalue": "GTF database needs to be created, run: pyensembl install --reference-name hg38 --annotation-name hg38_chr22 --gtf \"/s/genomes/human/hg38/Homo_sapiens.GRCh38.79.gtf\" --transcript-fasta \"/s/genomes/human/hg38/hg38.fa\"",
     "output_type": "error",
     "traceback": [
      "\u001b[0;31m---------------------------------------------------------------------------\u001b[0m",
      "\u001b[0;31mKeyError\u001b[0m                                  Traceback (most recent call last)",
      "\u001b[0;32m/opt/modules/i12g/anaconda/3-4.1.1/lib/python3.5/site-packages/pyensembl/common.py\u001b[0m in \u001b[0;36mwrapped_fn\u001b[0;34m(*args, **kwargs)\u001b[0m\n\u001b[1;32m     64\u001b[0m         \u001b[0;32mtry\u001b[0m\u001b[0;34m:\u001b[0m\u001b[0;34m\u001b[0m\u001b[0m\n\u001b[0;32m---> 65\u001b[0;31m             \u001b[0;32mreturn\u001b[0m \u001b[0mcache\u001b[0m\u001b[0;34m[\u001b[0m\u001b[0mcache_key\u001b[0m\u001b[0;34m]\u001b[0m\u001b[0;34m\u001b[0m\u001b[0m\n\u001b[0m\u001b[1;32m     66\u001b[0m         \u001b[0;32mexcept\u001b[0m \u001b[0mKeyError\u001b[0m\u001b[0;34m:\u001b[0m\u001b[0;34m\u001b[0m\u001b[0m\n",
      "\u001b[0;31mKeyError\u001b[0m: (<pyensembl.database.Database object at 0x7f2c2b1555c0>, ('column', 'gene_id'), ('contig', 22), ('distinct', True), ('feature', 'gene'), ('strand', '+'))",
      "\nDuring handling of the above exception, another exception occurred:\n",
      "\u001b[0;31mValueError\u001b[0m                                Traceback (most recent call last)",
      "\u001b[0;32m<ipython-input-3-af32b101e70e>\u001b[0m in \u001b[0;36m<module>\u001b[0;34m()\u001b[0m\n\u001b[0;32m----> 1\u001b[0;31m \u001b[0mprint\u001b[0m\u001b[0;34m(\u001b[0m\u001b[0mdata\u001b[0m\u001b[0;34m.\u001b[0m\u001b[0mgene_ids\u001b[0m\u001b[0;34m(\u001b[0m\u001b[0;36m22\u001b[0m\u001b[0;34m,\u001b[0m \u001b[0;34m'+'\u001b[0m\u001b[0;34m)\u001b[0m\u001b[0;34m)\u001b[0m\u001b[0;34m\u001b[0m\u001b[0m\n\u001b[0m",
      "\u001b[0;32m/opt/modules/i12g/anaconda/3-4.1.1/lib/python3.5/site-packages/pyensembl/genome.py\u001b[0m in \u001b[0;36mgene_ids\u001b[0;34m(self, contig, strand)\u001b[0m\n\u001b[1;32m    733\u001b[0m             \u001b[0mfeature\u001b[0m\u001b[0;34m=\u001b[0m\u001b[0;34m\"gene\"\u001b[0m\u001b[0;34m,\u001b[0m\u001b[0;34m\u001b[0m\u001b[0m\n\u001b[1;32m    734\u001b[0m             \u001b[0mcontig\u001b[0m\u001b[0;34m=\u001b[0m\u001b[0mcontig\u001b[0m\u001b[0;34m,\u001b[0m\u001b[0;34m\u001b[0m\u001b[0m\n\u001b[0;32m--> 735\u001b[0;31m             strand=strand)\n\u001b[0m\u001b[1;32m    736\u001b[0m \u001b[0;34m\u001b[0m\u001b[0m\n\u001b[1;32m    737\u001b[0m     \u001b[0;32mdef\u001b[0m \u001b[0mgene_ids_of_gene_name\u001b[0m\u001b[0;34m(\u001b[0m\u001b[0mself\u001b[0m\u001b[0;34m,\u001b[0m \u001b[0mgene_name\u001b[0m\u001b[0;34m)\u001b[0m\u001b[0;34m:\u001b[0m\u001b[0;34m\u001b[0m\u001b[0m\n",
      "\u001b[0;32m/opt/modules/i12g/anaconda/3-4.1.1/lib/python3.5/site-packages/pyensembl/genome.py\u001b[0m in \u001b[0;36m_all_feature_values\u001b[0;34m(self, column, feature, distinct, contig, strand)\u001b[0m\n\u001b[1;32m    430\u001b[0m \u001b[0;34m\u001b[0m\u001b[0m\n\u001b[1;32m    431\u001b[0m         return self.memory_cache.cached_object(\n\u001b[0;32m--> 432\u001b[0;31m             pickle_path, compute_fn=run_query)\n\u001b[0m\u001b[1;32m    433\u001b[0m \u001b[0;34m\u001b[0m\u001b[0m\n\u001b[1;32m    434\u001b[0m     \u001b[0;32mdef\u001b[0m \u001b[0mtranscript_sequence\u001b[0m\u001b[0;34m(\u001b[0m\u001b[0mself\u001b[0m\u001b[0;34m,\u001b[0m \u001b[0mtranscript_id\u001b[0m\u001b[0;34m)\u001b[0m\u001b[0;34m:\u001b[0m\u001b[0;34m\u001b[0m\u001b[0m\n",
      "\u001b[0;32m/opt/modules/i12g/anaconda/3-4.1.1/lib/python3.5/site-packages/pyensembl/memory_cache.py\u001b[0m in \u001b[0;36mcached_object\u001b[0;34m(self, path, compute_fn)\u001b[0m\n\u001b[1;32m    132\u001b[0m             \u001b[0mobj\u001b[0m \u001b[0;34m=\u001b[0m \u001b[0mload_pickle\u001b[0m\u001b[0;34m(\u001b[0m\u001b[0mpath\u001b[0m\u001b[0;34m)\u001b[0m\u001b[0;34m\u001b[0m\u001b[0m\n\u001b[1;32m    133\u001b[0m         \u001b[0;32melse\u001b[0m\u001b[0;34m:\u001b[0m\u001b[0;34m\u001b[0m\u001b[0m\n\u001b[0;32m--> 134\u001b[0;31m             \u001b[0mobj\u001b[0m \u001b[0;34m=\u001b[0m \u001b[0mcompute_fn\u001b[0m\u001b[0;34m(\u001b[0m\u001b[0;34m)\u001b[0m\u001b[0;34m\u001b[0m\u001b[0m\n\u001b[0m\u001b[1;32m    135\u001b[0m             \u001b[0mdump_pickle\u001b[0m\u001b[0;34m(\u001b[0m\u001b[0mobj\u001b[0m\u001b[0;34m,\u001b[0m \u001b[0mpath\u001b[0m\u001b[0;34m)\u001b[0m\u001b[0;34m\u001b[0m\u001b[0m\n\u001b[1;32m    136\u001b[0m         \u001b[0mself\u001b[0m\u001b[0;34m.\u001b[0m\u001b[0m_memory_cache\u001b[0m\u001b[0;34m[\u001b[0m\u001b[0mpath\u001b[0m\u001b[0;34m]\u001b[0m \u001b[0;34m=\u001b[0m \u001b[0mobj\u001b[0m\u001b[0;34m\u001b[0m\u001b[0m\n",
      "\u001b[0;32m/opt/modules/i12g/anaconda/3-4.1.1/lib/python3.5/site-packages/pyensembl/genome.py\u001b[0m in \u001b[0;36mrun_query\u001b[0;34m()\u001b[0m\n\u001b[1;32m    423\u001b[0m                 \u001b[0mdistinct\u001b[0m\u001b[0;34m=\u001b[0m\u001b[0mdistinct\u001b[0m\u001b[0;34m,\u001b[0m\u001b[0;34m\u001b[0m\u001b[0m\n\u001b[1;32m    424\u001b[0m                 \u001b[0mcontig\u001b[0m\u001b[0;34m=\u001b[0m\u001b[0mcontig\u001b[0m\u001b[0;34m,\u001b[0m\u001b[0;34m\u001b[0m\u001b[0m\n\u001b[0;32m--> 425\u001b[0;31m                 strand=strand)\n\u001b[0m\u001b[1;32m    426\u001b[0m             \u001b[0;32massert\u001b[0m \u001b[0misinstance\u001b[0m\u001b[0;34m(\u001b[0m\u001b[0mresults\u001b[0m\u001b[0;34m,\u001b[0m \u001b[0mlist\u001b[0m\u001b[0;34m)\u001b[0m\u001b[0;34m,\u001b[0m\u001b[0;31m \u001b[0m\u001b[0;31m\\\u001b[0m\u001b[0;34m\u001b[0m\u001b[0m\n\u001b[1;32m    427\u001b[0m                 \"Expected list from Database.query_feature_values, got %s\" % (\n",
      "\u001b[0;32m/opt/modules/i12g/anaconda/3-4.1.1/lib/python3.5/site-packages/pyensembl/common.py\u001b[0m in \u001b[0;36mwrapped_fn\u001b[0;34m(*args, **kwargs)\u001b[0m\n\u001b[1;32m     65\u001b[0m             \u001b[0;32mreturn\u001b[0m \u001b[0mcache\u001b[0m\u001b[0;34m[\u001b[0m\u001b[0mcache_key\u001b[0m\u001b[0;34m]\u001b[0m\u001b[0;34m\u001b[0m\u001b[0m\n\u001b[1;32m     66\u001b[0m         \u001b[0;32mexcept\u001b[0m \u001b[0mKeyError\u001b[0m\u001b[0;34m:\u001b[0m\u001b[0;34m\u001b[0m\u001b[0m\n\u001b[0;32m---> 67\u001b[0;31m             \u001b[0mvalue\u001b[0m \u001b[0;34m=\u001b[0m \u001b[0mfn\u001b[0m\u001b[0;34m(\u001b[0m\u001b[0;34m*\u001b[0m\u001b[0margs\u001b[0m\u001b[0;34m,\u001b[0m \u001b[0;34m**\u001b[0m\u001b[0mkwargs\u001b[0m\u001b[0;34m)\u001b[0m\u001b[0;34m\u001b[0m\u001b[0m\n\u001b[0m\u001b[1;32m     68\u001b[0m             \u001b[0mcache\u001b[0m\u001b[0;34m[\u001b[0m\u001b[0mcache_key\u001b[0m\u001b[0;34m]\u001b[0m \u001b[0;34m=\u001b[0m \u001b[0mvalue\u001b[0m\u001b[0;34m\u001b[0m\u001b[0m\n\u001b[1;32m     69\u001b[0m             \u001b[0;32mreturn\u001b[0m \u001b[0mvalue\u001b[0m\u001b[0;34m\u001b[0m\u001b[0m\n",
      "\u001b[0;32m/opt/modules/i12g/anaconda/3-4.1.1/lib/python3.5/site-packages/pyensembl/database.py\u001b[0m in \u001b[0;36mquery_feature_values\u001b[0;34m(self, column, feature, distinct, contig, strand)\u001b[0m\n\u001b[1;32m    494\u001b[0m             \u001b[0mquery_params\u001b[0m\u001b[0;34m.\u001b[0m\u001b[0mappend\u001b[0m\u001b[0;34m(\u001b[0m\u001b[0mstrand\u001b[0m\u001b[0;34m)\u001b[0m\u001b[0;34m\u001b[0m\u001b[0m\n\u001b[1;32m    495\u001b[0m \u001b[0;34m\u001b[0m\u001b[0m\n\u001b[0;32m--> 496\u001b[0;31m         \u001b[0mrows\u001b[0m \u001b[0;34m=\u001b[0m \u001b[0mself\u001b[0m\u001b[0;34m.\u001b[0m\u001b[0mrun_sql_query\u001b[0m\u001b[0;34m(\u001b[0m\u001b[0mquery\u001b[0m\u001b[0;34m,\u001b[0m \u001b[0mquery_params\u001b[0m\u001b[0;34m=\u001b[0m\u001b[0mquery_params\u001b[0m\u001b[0;34m)\u001b[0m\u001b[0;34m\u001b[0m\u001b[0m\n\u001b[0m\u001b[1;32m    497\u001b[0m         \u001b[0;32mreturn\u001b[0m \u001b[0;34m[\u001b[0m\u001b[0mrow\u001b[0m\u001b[0;34m[\u001b[0m\u001b[0;36m0\u001b[0m\u001b[0;34m]\u001b[0m \u001b[0;32mfor\u001b[0m \u001b[0mrow\u001b[0m \u001b[0;32min\u001b[0m \u001b[0mrows\u001b[0m \u001b[0;32mif\u001b[0m \u001b[0mrow\u001b[0m \u001b[0;32mis\u001b[0m \u001b[0;32mnot\u001b[0m \u001b[0;32mNone\u001b[0m\u001b[0;34m]\u001b[0m\u001b[0;34m\u001b[0m\u001b[0m\n\u001b[1;32m    498\u001b[0m \u001b[0;34m\u001b[0m\u001b[0m\n",
      "\u001b[0;32m/opt/modules/i12g/anaconda/3-4.1.1/lib/python3.5/site-packages/pyensembl/database.py\u001b[0m in \u001b[0;36mrun_sql_query\u001b[0;34m(self, sql, required, query_params)\u001b[0m\n\u001b[1;32m    395\u001b[0m         \"\"\"\n\u001b[1;32m    396\u001b[0m         \u001b[0;32mtry\u001b[0m\u001b[0;34m:\u001b[0m\u001b[0;34m\u001b[0m\u001b[0m\n\u001b[0;32m--> 397\u001b[0;31m             \u001b[0mcursor\u001b[0m \u001b[0;34m=\u001b[0m \u001b[0mself\u001b[0m\u001b[0;34m.\u001b[0m\u001b[0mconnection\u001b[0m\u001b[0;34m.\u001b[0m\u001b[0mexecute\u001b[0m\u001b[0;34m(\u001b[0m\u001b[0msql\u001b[0m\u001b[0;34m,\u001b[0m \u001b[0mquery_params\u001b[0m\u001b[0;34m)\u001b[0m\u001b[0;34m\u001b[0m\u001b[0m\n\u001b[0m\u001b[1;32m    398\u001b[0m         \u001b[0;32mexcept\u001b[0m \u001b[0msqlite3\u001b[0m\u001b[0;34m.\u001b[0m\u001b[0mOperationalError\u001b[0m \u001b[0;32mas\u001b[0m \u001b[0me\u001b[0m\u001b[0;34m:\u001b[0m\u001b[0;34m\u001b[0m\u001b[0m\n\u001b[1;32m    399\u001b[0m             \u001b[0merror_message\u001b[0m \u001b[0;34m=\u001b[0m \u001b[0me\u001b[0m\u001b[0;34m.\u001b[0m\u001b[0mmessage\u001b[0m \u001b[0;32mif\u001b[0m \u001b[0mhasattr\u001b[0m\u001b[0;34m(\u001b[0m\u001b[0me\u001b[0m\u001b[0;34m,\u001b[0m \u001b[0;34m'message'\u001b[0m\u001b[0;34m)\u001b[0m \u001b[0;32melse\u001b[0m \u001b[0mstr\u001b[0m\u001b[0;34m(\u001b[0m\u001b[0me\u001b[0m\u001b[0;34m)\u001b[0m\u001b[0;34m\u001b[0m\u001b[0m\n",
      "\u001b[0;32m/opt/modules/i12g/anaconda/3-4.1.1/lib/python3.5/site-packages/pyensembl/database.py\u001b[0m in \u001b[0;36mconnection\u001b[0;34m(self)\u001b[0m\n\u001b[1;32m    248\u001b[0m             raise ValueError(\n\u001b[1;32m    249\u001b[0m                 \"GTF database needs to be created, run: %s\" % (\n\u001b[0;32m--> 250\u001b[0;31m                     self.install_string,))\n\u001b[0m\u001b[1;32m    251\u001b[0m \u001b[0;34m\u001b[0m\u001b[0m\n\u001b[1;32m    252\u001b[0m     \u001b[0;32mdef\u001b[0m \u001b[0mconnect_or_create\u001b[0m\u001b[0;34m(\u001b[0m\u001b[0mself\u001b[0m\u001b[0;34m,\u001b[0m \u001b[0moverwrite\u001b[0m\u001b[0;34m=\u001b[0m\u001b[0;32mFalse\u001b[0m\u001b[0;34m)\u001b[0m\u001b[0;34m:\u001b[0m\u001b[0;34m\u001b[0m\u001b[0m\n",
      "\u001b[0;31mValueError\u001b[0m: GTF database needs to be created, run: pyensembl install --reference-name hg38 --annotation-name hg38_chr22 --gtf \"/s/genomes/human/hg38/Homo_sapiens.GRCh38.79.gtf\" --transcript-fasta \"/s/genomes/human/hg38/hg38.fa\""
     ]
    }
   ],
   "source": [
    "print(data.gene_ids(22, '+'))"
=======
   "cell_type": "raw",
   "metadata": {},
   "source": [
    "from transcript import GFTranscript"
   ]
  },
  {
   "cell_type": "code",
   "execution_count": 18,
   "metadata": {},
   "outputs": [],
   "source": [
    "from transcript import GFTranscript"
   ]
  },
  {
   "cell_type": "code",
   "execution_count": 19,
   "metadata": {},
   "outputs": [
    {
     "data": {
      "text/plain": [
       "Transcript(transcript_id=ENST00000615943.1, name=U2.14-201, gene_id=ENSG00000277248.1, gene_name=U2, biotype=None, location=22:10736171-10736283)"
      ]
     },
     "execution_count": 19,
     "metadata": {},
     "output_type": "execute_result"
    }
   ],
   "source": [
    "data.transcript_by_id('ENST00000615943.1')"
   ]
  },
  {
   "cell_type": "code",
   "execution_count": 20,
   "metadata": {},
   "outputs": [],
   "source": [
    "mytranscript = GFTranscript('ENST00000615943.1', 'U2.14-201', '22', 10736171, 10736283, '-', 'None', \n",
    "                            'ENSG00000277248.1', data)"
   ]
  },
  {
   "cell_type": "code",
   "execution_count": 23,
   "metadata": {},
   "outputs": [],
   "source": [
    "mytranscript.sequence"
   ]
  },
  {
   "cell_type": "code",
   "execution_count": 24,
   "metadata": {},
   "outputs": [
    {
     "name": "stdout",
     "output_type": "stream",
     "text": [
      "None\n"
     ]
    }
   ],
   "source": [
    "print(mytranscript.sequence)"
   ]
  },
  {
   "cell_type": "code",
   "execution_count": 54,
   "metadata": {},
   "outputs": [],
   "source": [
    "\n",
    "data.transcript_by_id('ENST00000623473.1').sequence"
   ]
  },
  {
   "cell_type": "code",
   "execution_count": 50,
   "metadata": {},
   "outputs": [
    {
     "ename": "ValueError",
     "evalue": "Transcript not found: ENST00000369985.1",
     "traceback": [
      "\u001b[0;31m---------------------------------------------------------------------------\u001b[0m",
      "\u001b[0;31mValueError\u001b[0m                                Traceback (most recent call last)",
      "\u001b[0;32m<ipython-input-50-b7adc0023aed>\u001b[0m in \u001b[0;36m<module>\u001b[0;34m()\u001b[0m\n\u001b[0;32m----> 1\u001b[0;31m \u001b[0mdata\u001b[0m\u001b[0;34m.\u001b[0m\u001b[0mtranscript_by_id\u001b[0m\u001b[0;34m(\u001b[0m\u001b[0;34m'ENST00000369985.1'\u001b[0m\u001b[0;34m)\u001b[0m\u001b[0;34m.\u001b[0m\u001b[0msequence\u001b[0m\u001b[0;34m\u001b[0m\u001b[0m\n\u001b[0m",
      "\u001b[0;32m~/miniconda3/lib/python3.6/site-packages/pyensembl/genome.py\u001b[0m in \u001b[0;36mtranscript_by_id\u001b[0;34m(self, transcript_id)\u001b[0m\n\u001b[1;32m    801\u001b[0m                 distinct=True)\n\u001b[1;32m    802\u001b[0m             \u001b[0;32mif\u001b[0m \u001b[0;32mnot\u001b[0m \u001b[0mresult\u001b[0m\u001b[0;34m:\u001b[0m\u001b[0;34m\u001b[0m\u001b[0m\n\u001b[0;32m--> 803\u001b[0;31m                 \u001b[0;32mraise\u001b[0m \u001b[0mValueError\u001b[0m\u001b[0;34m(\u001b[0m\u001b[0;34m\"Transcript not found: %s\"\u001b[0m \u001b[0;34m%\u001b[0m \u001b[0;34m(\u001b[0m\u001b[0mtranscript_id\u001b[0m\u001b[0;34m,\u001b[0m\u001b[0;34m)\u001b[0m\u001b[0;34m)\u001b[0m\u001b[0;34m\u001b[0m\u001b[0m\n\u001b[0m\u001b[1;32m    804\u001b[0m \u001b[0;34m\u001b[0m\u001b[0m\n\u001b[1;32m    805\u001b[0m             \u001b[0mtranscript_name\u001b[0m\u001b[0;34m,\u001b[0m \u001b[0mtranscript_biotype\u001b[0m \u001b[0;34m=\u001b[0m \u001b[0;32mNone\u001b[0m\u001b[0;34m,\u001b[0m \u001b[0;32mNone\u001b[0m\u001b[0;34m\u001b[0m\u001b[0m\n",
      "\u001b[0;31mValueError\u001b[0m: Transcript not found: ENST00000369985.1"
     ],
     "output_type": "error"
    }
   ],
   "source": [
    "data.transcript_by_id('').sequence"
>>>>>>> 1c7049b67f72570d2c562b506265ec0849eeca1c
   ]
  },
  {
   "cell_type": "code",
<<<<<<< HEAD
   "execution_count": null,
   "metadata": {
    "collapsed": true
   },
   "outputs": [],
   "source": []
  },
  {
   "cell_type": "code",
   "execution_count": null,
   "metadata": {
    "collapsed": false,
    "deletable": true,
    "editable": true
   },
   "outputs": [
    {
     "name": "stderr",
     "output_type": "stream",
     "text": [
      "/opt/modules/i12g/anaconda/3-4.1.1/lib/python3.5/site-packages/pyensembl/gtf.py:213: DtypeWarning: Columns (0,23) have mixed types. Specify dtype option on import or set low_memory=False.\n",
      "  full_df = self._load_full_dataframe_cached()\n"
=======
   "execution_count": 32,
   "metadata": {},
   "outputs": [
    {
     "name": "stdout",
     "output_type": "stream",
     "text": [
      "Transcript(transcript_id=ENST00000612732.1, name=5_8S_rRNA.2-201, gene_id=ENSG00000276871.1, gene_name=5_8S_rRNA, biotype=None, location=22:11249809-11249959)\n"
     ]
    }
   ],
   "source": [
    "print(data.transcript_by_id('ENST00000612732.1'))"
   ]
  },
  {
   "cell_type": "code",
   "execution_count": 33,
   "metadata": {},
   "outputs": [
    {
     "name": "stdout",
     "output_type": "stream",
     "text": [
      "None\n"
>>>>>>> 1c7049b67f72570d2c562b506265ec0849eeca1c
     ]
    }
   ],
   "source": [
<<<<<<< HEAD
    "data.index()"
=======
    "print(data.transcript_by_id('ENST00000612732.1').sequence)"
   ]
  },
  {
   "cell_type": "code",
   "execution_count": 35,
   "metadata": {},
   "outputs": [
    {
     "ename": "ValueError",
     "evalue": "Transcript ENST00000612732.1 does not contain feature stop_codon",
     "traceback": [
      "\u001b[0;31m---------------------------------------------------------------------------\u001b[0m",
      "\u001b[0;31mKeyError\u001b[0m                                  Traceback (most recent call last)",
      "\u001b[0;32m~/miniconda3/lib/python3.6/site-packages/pyensembl/common.py\u001b[0m in \u001b[0;36mwrapped_fn\u001b[0;34m(*args, **kwargs)\u001b[0m\n\u001b[1;32m     64\u001b[0m         \u001b[0;32mtry\u001b[0m\u001b[0;34m:\u001b[0m\u001b[0;34m\u001b[0m\u001b[0m\n\u001b[0;32m---> 65\u001b[0;31m             \u001b[0;32mreturn\u001b[0m \u001b[0mcache\u001b[0m\u001b[0;34m[\u001b[0m\u001b[0mcache_key\u001b[0m\u001b[0;34m]\u001b[0m\u001b[0;34m\u001b[0m\u001b[0m\n\u001b[0m\u001b[1;32m     66\u001b[0m         \u001b[0;32mexcept\u001b[0m \u001b[0mKeyError\u001b[0m\u001b[0;34m:\u001b[0m\u001b[0;34m\u001b[0m\u001b[0m\n",
      "\u001b[0;31mKeyError\u001b[0m: (Transcript(transcript_id=ENST00000612732.1, name=5_8S_rRNA.2-201, gene_id=ENSG00000276871.1, gene_name=5_8S_rRNA, biotype=None, location=22:11249809-11249959), 'stop_codon')",
      "\nDuring handling of the above exception, another exception occurred:\n",
      "\u001b[0;31mKeyError\u001b[0m                                  Traceback (most recent call last)",
      "\u001b[0;32m~/miniconda3/lib/python3.6/site-packages/pyensembl/common.py\u001b[0m in \u001b[0;36mwrapped_fn\u001b[0;34m(*args, **kwargs)\u001b[0m\n\u001b[1;32m     64\u001b[0m         \u001b[0;32mtry\u001b[0m\u001b[0;34m:\u001b[0m\u001b[0;34m\u001b[0m\u001b[0m\n\u001b[0;32m---> 65\u001b[0;31m             \u001b[0;32mreturn\u001b[0m \u001b[0mcache\u001b[0m\u001b[0;34m[\u001b[0m\u001b[0mcache_key\u001b[0m\u001b[0;34m]\u001b[0m\u001b[0;34m\u001b[0m\u001b[0m\n\u001b[0m\u001b[1;32m     66\u001b[0m         \u001b[0;32mexcept\u001b[0m \u001b[0mKeyError\u001b[0m\u001b[0;34m:\u001b[0m\u001b[0;34m\u001b[0m\u001b[0m\n",
      "\u001b[0;31mKeyError\u001b[0m: (Transcript(transcript_id=ENST00000612732.1, name=5_8S_rRNA.2-201, gene_id=ENSG00000276871.1, gene_name=5_8S_rRNA, biotype=None, location=22:11249809-11249959), 'stop_codon')",
      "\nDuring handling of the above exception, another exception occurred:\n",
      "\u001b[0;31mKeyError\u001b[0m                                  Traceback (most recent call last)",
      "\u001b[0;32m~/miniconda3/lib/python3.6/site-packages/pyensembl/common.py\u001b[0m in \u001b[0;36mwrapped_fn\u001b[0;34m(*args, **kwargs)\u001b[0m\n\u001b[1;32m     64\u001b[0m         \u001b[0;32mtry\u001b[0m\u001b[0;34m:\u001b[0m\u001b[0;34m\u001b[0m\u001b[0m\n\u001b[0;32m---> 65\u001b[0;31m             \u001b[0;32mreturn\u001b[0m \u001b[0mcache\u001b[0m\u001b[0;34m[\u001b[0m\u001b[0mcache_key\u001b[0m\u001b[0;34m]\u001b[0m\u001b[0;34m\u001b[0m\u001b[0m\n\u001b[0m\u001b[1;32m     66\u001b[0m         \u001b[0;32mexcept\u001b[0m \u001b[0mKeyError\u001b[0m\u001b[0;34m:\u001b[0m\u001b[0;34m\u001b[0m\u001b[0m\n",
      "\u001b[0;31mKeyError\u001b[0m: (Transcript(transcript_id=ENST00000612732.1, name=5_8S_rRNA.2-201, gene_id=ENSG00000276871.1, gene_name=5_8S_rRNA, biotype=None, location=22:11249809-11249959), 'stop_codon', ('required', True))",
      "\nDuring handling of the above exception, another exception occurred:\n",
      "\u001b[0;31mValueError\u001b[0m                                Traceback (most recent call last)",
      "\u001b[0;32m<ipython-input-35-4a67416141db>\u001b[0m in \u001b[0;36m<module>\u001b[0;34m()\u001b[0m\n\u001b[0;32m----> 1\u001b[0;31m \u001b[0mprint\u001b[0m\u001b[0;34m(\u001b[0m\u001b[0mdata\u001b[0m\u001b[0;34m.\u001b[0m\u001b[0mtranscript_by_id\u001b[0m\u001b[0;34m(\u001b[0m\u001b[0;34m'ENST00000612732.1'\u001b[0m\u001b[0;34m)\u001b[0m\u001b[0;34m.\u001b[0m\u001b[0mthree_prime_utr_sequence\u001b[0m\u001b[0;34m)\u001b[0m\u001b[0;34m\u001b[0m\u001b[0m\n\u001b[0m",
      "\u001b[0;32m~/miniconda3/lib/python3.6/site-packages/memoized_property.py\u001b[0m in \u001b[0;36mfget_memoized\u001b[0;34m(self)\u001b[0m\n\u001b[1;32m     38\u001b[0m     \u001b[0;32mdef\u001b[0m \u001b[0mfget_memoized\u001b[0m\u001b[0;34m(\u001b[0m\u001b[0mself\u001b[0m\u001b[0;34m)\u001b[0m\u001b[0;34m:\u001b[0m\u001b[0;34m\u001b[0m\u001b[0m\n\u001b[1;32m     39\u001b[0m         \u001b[0;32mif\u001b[0m \u001b[0;32mnot\u001b[0m \u001b[0mhasattr\u001b[0m\u001b[0;34m(\u001b[0m\u001b[0mself\u001b[0m\u001b[0;34m,\u001b[0m \u001b[0mattr_name\u001b[0m\u001b[0;34m)\u001b[0m\u001b[0;34m:\u001b[0m\u001b[0;34m\u001b[0m\u001b[0m\n\u001b[0;32m---> 40\u001b[0;31m             \u001b[0msetattr\u001b[0m\u001b[0;34m(\u001b[0m\u001b[0mself\u001b[0m\u001b[0;34m,\u001b[0m \u001b[0mattr_name\u001b[0m\u001b[0;34m,\u001b[0m \u001b[0mfget\u001b[0m\u001b[0;34m(\u001b[0m\u001b[0mself\u001b[0m\u001b[0;34m)\u001b[0m\u001b[0;34m)\u001b[0m\u001b[0;34m\u001b[0m\u001b[0m\n\u001b[0m\u001b[1;32m     41\u001b[0m         \u001b[0;32mreturn\u001b[0m \u001b[0mgetattr\u001b[0m\u001b[0;34m(\u001b[0m\u001b[0mself\u001b[0m\u001b[0;34m,\u001b[0m \u001b[0mattr_name\u001b[0m\u001b[0;34m)\u001b[0m\u001b[0;34m\u001b[0m\u001b[0m\n\u001b[1;32m     42\u001b[0m \u001b[0;34m\u001b[0m\u001b[0m\n",
      "\u001b[0;32m~/miniconda3/lib/python3.6/site-packages/pyensembl/transcript.py\u001b[0m in \u001b[0;36mthree_prime_utr_sequence\u001b[0;34m(self)\u001b[0m\n\u001b[1;32m    459\u001b[0m         \u001b[0;34m(\u001b[0m\u001b[0muntranslated\u001b[0m \u001b[0mregion\u001b[0m \u001b[0mat\u001b[0m \u001b[0mthe\u001b[0m \u001b[0mend\u001b[0m \u001b[0mof\u001b[0m \u001b[0mthe\u001b[0m \u001b[0mtranscript\u001b[0m\u001b[0;34m)\u001b[0m\u001b[0;34m\u001b[0m\u001b[0m\n\u001b[1;32m    460\u001b[0m         \"\"\"\n\u001b[0;32m--> 461\u001b[0;31m         \u001b[0;32mreturn\u001b[0m \u001b[0mself\u001b[0m\u001b[0;34m.\u001b[0m\u001b[0msequence\u001b[0m\u001b[0;34m[\u001b[0m\u001b[0mself\u001b[0m\u001b[0;34m.\u001b[0m\u001b[0mlast_stop_codon_spliced_offset\u001b[0m \u001b[0;34m+\u001b[0m \u001b[0;36m1\u001b[0m\u001b[0;34m:\u001b[0m\u001b[0;34m]\u001b[0m\u001b[0;34m\u001b[0m\u001b[0m\n\u001b[0m\u001b[1;32m    462\u001b[0m \u001b[0;34m\u001b[0m\u001b[0m\n\u001b[1;32m    463\u001b[0m     \u001b[0;34m@\u001b[0m\u001b[0mmemoized_property\u001b[0m\u001b[0;34m\u001b[0m\u001b[0m\n",
      "\u001b[0;32m~/miniconda3/lib/python3.6/site-packages/memoized_property.py\u001b[0m in \u001b[0;36mfget_memoized\u001b[0;34m(self)\u001b[0m\n\u001b[1;32m     38\u001b[0m     \u001b[0;32mdef\u001b[0m \u001b[0mfget_memoized\u001b[0m\u001b[0;34m(\u001b[0m\u001b[0mself\u001b[0m\u001b[0;34m)\u001b[0m\u001b[0;34m:\u001b[0m\u001b[0;34m\u001b[0m\u001b[0m\n\u001b[1;32m     39\u001b[0m         \u001b[0;32mif\u001b[0m \u001b[0;32mnot\u001b[0m \u001b[0mhasattr\u001b[0m\u001b[0;34m(\u001b[0m\u001b[0mself\u001b[0m\u001b[0;34m,\u001b[0m \u001b[0mattr_name\u001b[0m\u001b[0;34m)\u001b[0m\u001b[0;34m:\u001b[0m\u001b[0;34m\u001b[0m\u001b[0m\n\u001b[0;32m---> 40\u001b[0;31m             \u001b[0msetattr\u001b[0m\u001b[0;34m(\u001b[0m\u001b[0mself\u001b[0m\u001b[0;34m,\u001b[0m \u001b[0mattr_name\u001b[0m\u001b[0;34m,\u001b[0m \u001b[0mfget\u001b[0m\u001b[0;34m(\u001b[0m\u001b[0mself\u001b[0m\u001b[0;34m)\u001b[0m\u001b[0;34m)\u001b[0m\u001b[0;34m\u001b[0m\u001b[0m\n\u001b[0m\u001b[1;32m     41\u001b[0m         \u001b[0;32mreturn\u001b[0m \u001b[0mgetattr\u001b[0m\u001b[0;34m(\u001b[0m\u001b[0mself\u001b[0m\u001b[0;34m,\u001b[0m \u001b[0mattr_name\u001b[0m\u001b[0;34m)\u001b[0m\u001b[0;34m\u001b[0m\u001b[0m\n\u001b[1;32m     42\u001b[0m \u001b[0;34m\u001b[0m\u001b[0m\n",
      "\u001b[0;32m~/miniconda3/lib/python3.6/site-packages/pyensembl/transcript.py\u001b[0m in \u001b[0;36mlast_stop_codon_spliced_offset\u001b[0;34m(self)\u001b[0m\n\u001b[1;32m    418\u001b[0m         \u001b[0;34m(\u001b[0m\u001b[0mexcluding\u001b[0m \u001b[0mintrons\u001b[0m\u001b[0;34m)\u001b[0m\u001b[0;34m\u001b[0m\u001b[0m\n\u001b[1;32m    419\u001b[0m         \"\"\"\n\u001b[0;32m--> 420\u001b[0;31m         \u001b[0mstop_offsets\u001b[0m \u001b[0;34m=\u001b[0m \u001b[0mself\u001b[0m\u001b[0;34m.\u001b[0m\u001b[0mstop_codon_spliced_offsets\u001b[0m\u001b[0;34m\u001b[0m\u001b[0m\n\u001b[0m\u001b[1;32m    421\u001b[0m         \u001b[0;32mreturn\u001b[0m \u001b[0mmax\u001b[0m\u001b[0;34m(\u001b[0m\u001b[0mstop_offsets\u001b[0m\u001b[0;34m)\u001b[0m\u001b[0;34m\u001b[0m\u001b[0m\n\u001b[1;32m    422\u001b[0m \u001b[0;34m\u001b[0m\u001b[0m\n",
      "\u001b[0;32m~/miniconda3/lib/python3.6/site-packages/memoized_property.py\u001b[0m in \u001b[0;36mfget_memoized\u001b[0;34m(self)\u001b[0m\n\u001b[1;32m     38\u001b[0m     \u001b[0;32mdef\u001b[0m \u001b[0mfget_memoized\u001b[0m\u001b[0;34m(\u001b[0m\u001b[0mself\u001b[0m\u001b[0;34m)\u001b[0m\u001b[0;34m:\u001b[0m\u001b[0;34m\u001b[0m\u001b[0m\n\u001b[1;32m     39\u001b[0m         \u001b[0;32mif\u001b[0m \u001b[0;32mnot\u001b[0m \u001b[0mhasattr\u001b[0m\u001b[0;34m(\u001b[0m\u001b[0mself\u001b[0m\u001b[0;34m,\u001b[0m \u001b[0mattr_name\u001b[0m\u001b[0;34m)\u001b[0m\u001b[0;34m:\u001b[0m\u001b[0;34m\u001b[0m\u001b[0m\n\u001b[0;32m---> 40\u001b[0;31m             \u001b[0msetattr\u001b[0m\u001b[0;34m(\u001b[0m\u001b[0mself\u001b[0m\u001b[0;34m,\u001b[0m \u001b[0mattr_name\u001b[0m\u001b[0;34m,\u001b[0m \u001b[0mfget\u001b[0m\u001b[0;34m(\u001b[0m\u001b[0mself\u001b[0m\u001b[0;34m)\u001b[0m\u001b[0;34m)\u001b[0m\u001b[0;34m\u001b[0m\u001b[0m\n\u001b[0m\u001b[1;32m     41\u001b[0m         \u001b[0;32mreturn\u001b[0m \u001b[0mgetattr\u001b[0m\u001b[0;34m(\u001b[0m\u001b[0mself\u001b[0m\u001b[0;34m,\u001b[0m \u001b[0mattr_name\u001b[0m\u001b[0;34m)\u001b[0m\u001b[0;34m\u001b[0m\u001b[0m\n\u001b[1;32m     42\u001b[0m \u001b[0;34m\u001b[0m\u001b[0m\n",
      "\u001b[0;32m~/miniconda3/lib/python3.6/site-packages/pyensembl/transcript.py\u001b[0m in \u001b[0;36mstop_codon_spliced_offsets\u001b[0;34m(self)\u001b[0m\n\u001b[1;32m    370\u001b[0m             \u001b[0mself\u001b[0m\u001b[0;34m.\u001b[0m\u001b[0mspliced_offset\u001b[0m\u001b[0;34m(\u001b[0m\u001b[0mposition\u001b[0m\u001b[0;34m)\u001b[0m\u001b[0;34m\u001b[0m\u001b[0m\n\u001b[1;32m    371\u001b[0m             \u001b[0;32mfor\u001b[0m \u001b[0mposition\u001b[0m\u001b[0;34m\u001b[0m\u001b[0m\n\u001b[0;32m--> 372\u001b[0;31m             \u001b[0;32min\u001b[0m \u001b[0mself\u001b[0m\u001b[0;34m.\u001b[0m\u001b[0mstop_codon_positions\u001b[0m\u001b[0;34m\u001b[0m\u001b[0m\n\u001b[0m\u001b[1;32m    373\u001b[0m         ]\n\u001b[1;32m    374\u001b[0m         \u001b[0;32mreturn\u001b[0m \u001b[0mself\u001b[0m\u001b[0;34m.\u001b[0m\u001b[0m_contiguous_offsets\u001b[0m\u001b[0;34m(\u001b[0m\u001b[0moffsets\u001b[0m\u001b[0;34m)\u001b[0m\u001b[0;34m\u001b[0m\u001b[0m\n",
      "\u001b[0;32m~/miniconda3/lib/python3.6/site-packages/memoized_property.py\u001b[0m in \u001b[0;36mfget_memoized\u001b[0;34m(self)\u001b[0m\n\u001b[1;32m     38\u001b[0m     \u001b[0;32mdef\u001b[0m \u001b[0mfget_memoized\u001b[0m\u001b[0;34m(\u001b[0m\u001b[0mself\u001b[0m\u001b[0;34m)\u001b[0m\u001b[0;34m:\u001b[0m\u001b[0;34m\u001b[0m\u001b[0m\n\u001b[1;32m     39\u001b[0m         \u001b[0;32mif\u001b[0m \u001b[0;32mnot\u001b[0m \u001b[0mhasattr\u001b[0m\u001b[0;34m(\u001b[0m\u001b[0mself\u001b[0m\u001b[0;34m,\u001b[0m \u001b[0mattr_name\u001b[0m\u001b[0;34m)\u001b[0m\u001b[0;34m:\u001b[0m\u001b[0;34m\u001b[0m\u001b[0m\n\u001b[0;32m---> 40\u001b[0;31m             \u001b[0msetattr\u001b[0m\u001b[0;34m(\u001b[0m\u001b[0mself\u001b[0m\u001b[0;34m,\u001b[0m \u001b[0mattr_name\u001b[0m\u001b[0;34m,\u001b[0m \u001b[0mfget\u001b[0m\u001b[0;34m(\u001b[0m\u001b[0mself\u001b[0m\u001b[0;34m)\u001b[0m\u001b[0;34m)\u001b[0m\u001b[0;34m\u001b[0m\u001b[0m\n\u001b[0m\u001b[1;32m     41\u001b[0m         \u001b[0;32mreturn\u001b[0m \u001b[0mgetattr\u001b[0m\u001b[0;34m(\u001b[0m\u001b[0mself\u001b[0m\u001b[0;34m,\u001b[0m \u001b[0mattr_name\u001b[0m\u001b[0;34m)\u001b[0m\u001b[0;34m\u001b[0m\u001b[0m\n\u001b[1;32m     42\u001b[0m \u001b[0;34m\u001b[0m\u001b[0m\n",
      "\u001b[0;32m~/miniconda3/lib/python3.6/site-packages/pyensembl/transcript.py\u001b[0m in \u001b[0;36mstop_codon_positions\u001b[0;34m(self)\u001b[0m\n\u001b[1;32m    240\u001b[0m         \u001b[0mChromosomal\u001b[0m \u001b[0mpositions\u001b[0m \u001b[0mof\u001b[0m \u001b[0mnucleotides\u001b[0m \u001b[0;32min\u001b[0m \u001b[0mstop\u001b[0m \u001b[0mcodon\u001b[0m\u001b[0;34m.\u001b[0m\u001b[0;34m\u001b[0m\u001b[0m\n\u001b[1;32m    241\u001b[0m         \"\"\"\n\u001b[0;32m--> 242\u001b[0;31m         \u001b[0;32mreturn\u001b[0m \u001b[0mself\u001b[0m\u001b[0;34m.\u001b[0m\u001b[0m_codon_positions\u001b[0m\u001b[0;34m(\u001b[0m\u001b[0;34m\"stop_codon\"\u001b[0m\u001b[0;34m)\u001b[0m\u001b[0;34m\u001b[0m\u001b[0m\n\u001b[0m\u001b[1;32m    243\u001b[0m \u001b[0;34m\u001b[0m\u001b[0m\n\u001b[1;32m    244\u001b[0m     \u001b[0;34m@\u001b[0m\u001b[0mmemoized_property\u001b[0m\u001b[0;34m\u001b[0m\u001b[0m\n",
      "\u001b[0;32m~/miniconda3/lib/python3.6/site-packages/pyensembl/common.py\u001b[0m in \u001b[0;36mwrapped_fn\u001b[0;34m(*args, **kwargs)\u001b[0m\n\u001b[1;32m     65\u001b[0m             \u001b[0;32mreturn\u001b[0m \u001b[0mcache\u001b[0m\u001b[0;34m[\u001b[0m\u001b[0mcache_key\u001b[0m\u001b[0;34m]\u001b[0m\u001b[0;34m\u001b[0m\u001b[0m\n\u001b[1;32m     66\u001b[0m         \u001b[0;32mexcept\u001b[0m \u001b[0mKeyError\u001b[0m\u001b[0;34m:\u001b[0m\u001b[0;34m\u001b[0m\u001b[0m\n\u001b[0;32m---> 67\u001b[0;31m             \u001b[0mvalue\u001b[0m \u001b[0;34m=\u001b[0m \u001b[0mfn\u001b[0m\u001b[0;34m(\u001b[0m\u001b[0;34m*\u001b[0m\u001b[0margs\u001b[0m\u001b[0;34m,\u001b[0m \u001b[0;34m**\u001b[0m\u001b[0mkwargs\u001b[0m\u001b[0;34m)\u001b[0m\u001b[0;34m\u001b[0m\u001b[0m\n\u001b[0m\u001b[1;32m     68\u001b[0m             \u001b[0mcache\u001b[0m\u001b[0;34m[\u001b[0m\u001b[0mcache_key\u001b[0m\u001b[0;34m]\u001b[0m \u001b[0;34m=\u001b[0m \u001b[0mvalue\u001b[0m\u001b[0;34m\u001b[0m\u001b[0m\n\u001b[1;32m     69\u001b[0m             \u001b[0;32mreturn\u001b[0m \u001b[0mvalue\u001b[0m\u001b[0;34m\u001b[0m\u001b[0m\n",
      "\u001b[0;32m~/miniconda3/lib/python3.6/site-packages/pyensembl/transcript.py\u001b[0m in \u001b[0;36m_codon_positions\u001b[0;34m(self, feature)\u001b[0m\n\u001b[1;32m    201\u001b[0m         \u001b[0mReturns\u001b[0m \u001b[0mlist\u001b[0m \u001b[0mof\u001b[0m \u001b[0mthree\u001b[0m \u001b[0mchromosomal\u001b[0m \u001b[0mpositions\u001b[0m\u001b[0;34m.\u001b[0m\u001b[0;34m\u001b[0m\u001b[0m\n\u001b[1;32m    202\u001b[0m         \"\"\"\n\u001b[0;32m--> 203\u001b[0;31m         \u001b[0mresults\u001b[0m \u001b[0;34m=\u001b[0m \u001b[0mself\u001b[0m\u001b[0;34m.\u001b[0m\u001b[0m_transcript_feature_positions\u001b[0m\u001b[0;34m(\u001b[0m\u001b[0mfeature\u001b[0m\u001b[0;34m)\u001b[0m\u001b[0;34m\u001b[0m\u001b[0m\n\u001b[0m\u001b[1;32m    204\u001b[0m         \u001b[0;32mif\u001b[0m \u001b[0mlen\u001b[0m\u001b[0;34m(\u001b[0m\u001b[0mresults\u001b[0m\u001b[0;34m)\u001b[0m \u001b[0;34m!=\u001b[0m \u001b[0;36m3\u001b[0m\u001b[0;34m:\u001b[0m\u001b[0;34m\u001b[0m\u001b[0m\n\u001b[1;32m    205\u001b[0m             raise ValueError(\n",
      "\u001b[0;32m~/miniconda3/lib/python3.6/site-packages/pyensembl/common.py\u001b[0m in \u001b[0;36mwrapped_fn\u001b[0;34m(*args, **kwargs)\u001b[0m\n\u001b[1;32m     65\u001b[0m             \u001b[0;32mreturn\u001b[0m \u001b[0mcache\u001b[0m\u001b[0;34m[\u001b[0m\u001b[0mcache_key\u001b[0m\u001b[0;34m]\u001b[0m\u001b[0;34m\u001b[0m\u001b[0m\n\u001b[1;32m     66\u001b[0m         \u001b[0;32mexcept\u001b[0m \u001b[0mKeyError\u001b[0m\u001b[0;34m:\u001b[0m\u001b[0;34m\u001b[0m\u001b[0m\n\u001b[0;32m---> 67\u001b[0;31m             \u001b[0mvalue\u001b[0m \u001b[0;34m=\u001b[0m \u001b[0mfn\u001b[0m\u001b[0;34m(\u001b[0m\u001b[0;34m*\u001b[0m\u001b[0margs\u001b[0m\u001b[0;34m,\u001b[0m \u001b[0;34m**\u001b[0m\u001b[0mkwargs\u001b[0m\u001b[0;34m)\u001b[0m\u001b[0;34m\u001b[0m\u001b[0m\n\u001b[0m\u001b[1;32m     68\u001b[0m             \u001b[0mcache\u001b[0m\u001b[0;34m[\u001b[0m\u001b[0mcache_key\u001b[0m\u001b[0;34m]\u001b[0m \u001b[0;34m=\u001b[0m \u001b[0mvalue\u001b[0m\u001b[0;34m\u001b[0m\u001b[0m\n\u001b[1;32m     69\u001b[0m             \u001b[0;32mreturn\u001b[0m \u001b[0mvalue\u001b[0m\u001b[0;34m\u001b[0m\u001b[0m\n",
      "\u001b[0;32m~/miniconda3/lib/python3.6/site-packages/pyensembl/transcript.py\u001b[0m in \u001b[0;36m_transcript_feature_positions\u001b[0;34m(self, feature)\u001b[0m\n\u001b[1;32m    176\u001b[0m         \"\"\"\n\u001b[1;32m    177\u001b[0m         ranges = self._transcript_feature_position_ranges(\n\u001b[0;32m--> 178\u001b[0;31m             feature, required=True)\n\u001b[0m\u001b[1;32m    179\u001b[0m         \u001b[0mresults\u001b[0m \u001b[0;34m=\u001b[0m \u001b[0;34m[\u001b[0m\u001b[0;34m]\u001b[0m\u001b[0;34m\u001b[0m\u001b[0m\n\u001b[1;32m    180\u001b[0m         \u001b[0;31m# a feature (such as a stop codon), maybe be split over multiple\u001b[0m\u001b[0;34m\u001b[0m\u001b[0;34m\u001b[0m\u001b[0m\n",
      "\u001b[0;32m~/miniconda3/lib/python3.6/site-packages/pyensembl/common.py\u001b[0m in \u001b[0;36mwrapped_fn\u001b[0;34m(*args, **kwargs)\u001b[0m\n\u001b[1;32m     65\u001b[0m             \u001b[0;32mreturn\u001b[0m \u001b[0mcache\u001b[0m\u001b[0;34m[\u001b[0m\u001b[0mcache_key\u001b[0m\u001b[0;34m]\u001b[0m\u001b[0;34m\u001b[0m\u001b[0m\n\u001b[1;32m     66\u001b[0m         \u001b[0;32mexcept\u001b[0m \u001b[0mKeyError\u001b[0m\u001b[0;34m:\u001b[0m\u001b[0;34m\u001b[0m\u001b[0m\n\u001b[0;32m---> 67\u001b[0;31m             \u001b[0mvalue\u001b[0m \u001b[0;34m=\u001b[0m \u001b[0mfn\u001b[0m\u001b[0;34m(\u001b[0m\u001b[0;34m*\u001b[0m\u001b[0margs\u001b[0m\u001b[0;34m,\u001b[0m \u001b[0;34m**\u001b[0m\u001b[0mkwargs\u001b[0m\u001b[0;34m)\u001b[0m\u001b[0;34m\u001b[0m\u001b[0m\n\u001b[0m\u001b[1;32m     68\u001b[0m             \u001b[0mcache\u001b[0m\u001b[0;34m[\u001b[0m\u001b[0mcache_key\u001b[0m\u001b[0;34m]\u001b[0m \u001b[0;34m=\u001b[0m \u001b[0mvalue\u001b[0m\u001b[0;34m\u001b[0m\u001b[0m\n\u001b[1;32m     69\u001b[0m             \u001b[0;32mreturn\u001b[0m \u001b[0mvalue\u001b[0m\u001b[0;34m\u001b[0m\u001b[0m\n",
      "\u001b[0;32m~/miniconda3/lib/python3.6/site-packages/pyensembl/transcript.py\u001b[0m in \u001b[0;36m_transcript_feature_position_ranges\u001b[0;34m(self, feature, required)\u001b[0m\n\u001b[1;32m    167\u001b[0m             raise ValueError(\n\u001b[1;32m    168\u001b[0m                 \"Transcript %s does not contain feature %s\" % (\n\u001b[0;32m--> 169\u001b[0;31m                     self.id, feature))\n\u001b[0m\u001b[1;32m    170\u001b[0m         \u001b[0;32mreturn\u001b[0m \u001b[0mresults\u001b[0m\u001b[0;34m\u001b[0m\u001b[0m\n\u001b[1;32m    171\u001b[0m \u001b[0;34m\u001b[0m\u001b[0m\n",
      "\u001b[0;31mValueError\u001b[0m: Transcript ENST00000612732.1 does not contain feature stop_codon"
     ],
     "output_type": "error"
    }
   ],
   "source": [
    "print(data.transcript_by_id('ENST00000612732.1').three_prime_utr_sequence)"
   ]
  },
  {
   "cell_type": "code",
   "execution_count": 45,
   "metadata": {},
   "outputs": [
    {
     "data": {
      "text/plain": [
       "False"
      ]
     },
     "execution_count": 45,
     "metadata": {},
     "output_type": "execute_result"
    }
   ],
   "source": [
    "data.transcript_by_id('ENST00000612732.1').contains_stop_codon"
>>>>>>> 1c7049b67f72570d2c562b506265ec0849eeca1c
   ]
  },
  {
   "cell_type": "code",
   "execution_count": null,
<<<<<<< HEAD
   "metadata": {
    "collapsed": true
   },
=======
   "metadata": {},
>>>>>>> 1c7049b67f72570d2c562b506265ec0849eeca1c
   "outputs": [],
   "source": []
  },
  {
   "cell_type": "code",
   "execution_count": null,
<<<<<<< HEAD
   "metadata": {
    "collapsed": true,
    "deletable": true,
    "editable": true
   },
   "outputs": [],
   "source": [
    "print('hello')"
=======
   "metadata": {},
   "outputs": [],
   "source": []
  },
  {
   "cell_type": "code",
   "execution_count": 29,
   "metadata": {},
   "outputs": [
    {
     "ename": "ValueError",
     "evalue": "Transcript ENST00000615943.1 does not contain feature start_codon",
     "traceback": [
      "\u001b[0;31m---------------------------------------------------------------------------\u001b[0m",
      "\u001b[0;31mKeyError\u001b[0m                                  Traceback (most recent call last)",
      "\u001b[0;32m~/miniconda3/lib/python3.6/site-packages/pyensembl/common.py\u001b[0m in \u001b[0;36mwrapped_fn\u001b[0;34m(*args, **kwargs)\u001b[0m\n\u001b[1;32m     64\u001b[0m         \u001b[0;32mtry\u001b[0m\u001b[0;34m:\u001b[0m\u001b[0;34m\u001b[0m\u001b[0m\n\u001b[0;32m---> 65\u001b[0;31m             \u001b[0;32mreturn\u001b[0m \u001b[0mcache\u001b[0m\u001b[0;34m[\u001b[0m\u001b[0mcache_key\u001b[0m\u001b[0;34m]\u001b[0m\u001b[0;34m\u001b[0m\u001b[0m\n\u001b[0m\u001b[1;32m     66\u001b[0m         \u001b[0;32mexcept\u001b[0m \u001b[0mKeyError\u001b[0m\u001b[0;34m:\u001b[0m\u001b[0;34m\u001b[0m\u001b[0m\n",
      "\u001b[0;31mKeyError\u001b[0m: (Transcript(transcript_id=ENST00000615943.1, name=U2.14-201, gene_id=ENSG00000277248.1, gene_name=U2, biotype=None, location=22:10736171-10736283), 'start_codon')",
      "\nDuring handling of the above exception, another exception occurred:\n",
      "\u001b[0;31mKeyError\u001b[0m                                  Traceback (most recent call last)",
      "\u001b[0;32m~/miniconda3/lib/python3.6/site-packages/pyensembl/common.py\u001b[0m in \u001b[0;36mwrapped_fn\u001b[0;34m(*args, **kwargs)\u001b[0m\n\u001b[1;32m     64\u001b[0m         \u001b[0;32mtry\u001b[0m\u001b[0;34m:\u001b[0m\u001b[0;34m\u001b[0m\u001b[0m\n\u001b[0;32m---> 65\u001b[0;31m             \u001b[0;32mreturn\u001b[0m \u001b[0mcache\u001b[0m\u001b[0;34m[\u001b[0m\u001b[0mcache_key\u001b[0m\u001b[0;34m]\u001b[0m\u001b[0;34m\u001b[0m\u001b[0m\n\u001b[0m\u001b[1;32m     66\u001b[0m         \u001b[0;32mexcept\u001b[0m \u001b[0mKeyError\u001b[0m\u001b[0;34m:\u001b[0m\u001b[0;34m\u001b[0m\u001b[0m\n",
      "\u001b[0;31mKeyError\u001b[0m: (Transcript(transcript_id=ENST00000615943.1, name=U2.14-201, gene_id=ENSG00000277248.1, gene_name=U2, biotype=None, location=22:10736171-10736283), 'start_codon')",
      "\nDuring handling of the above exception, another exception occurred:\n",
      "\u001b[0;31mKeyError\u001b[0m                                  Traceback (most recent call last)",
      "\u001b[0;32m~/miniconda3/lib/python3.6/site-packages/pyensembl/common.py\u001b[0m in \u001b[0;36mwrapped_fn\u001b[0;34m(*args, **kwargs)\u001b[0m\n\u001b[1;32m     64\u001b[0m         \u001b[0;32mtry\u001b[0m\u001b[0;34m:\u001b[0m\u001b[0;34m\u001b[0m\u001b[0m\n\u001b[0;32m---> 65\u001b[0;31m             \u001b[0;32mreturn\u001b[0m \u001b[0mcache\u001b[0m\u001b[0;34m[\u001b[0m\u001b[0mcache_key\u001b[0m\u001b[0;34m]\u001b[0m\u001b[0;34m\u001b[0m\u001b[0m\n\u001b[0m\u001b[1;32m     66\u001b[0m         \u001b[0;32mexcept\u001b[0m \u001b[0mKeyError\u001b[0m\u001b[0;34m:\u001b[0m\u001b[0;34m\u001b[0m\u001b[0m\n",
      "\u001b[0;31mKeyError\u001b[0m: (Transcript(transcript_id=ENST00000615943.1, name=U2.14-201, gene_id=ENSG00000277248.1, gene_name=U2, biotype=None, location=22:10736171-10736283), 'start_codon', ('required', True))",
      "\nDuring handling of the above exception, another exception occurred:\n",
      "\u001b[0;31mValueError\u001b[0m                                Traceback (most recent call last)",
      "\u001b[0;32m<ipython-input-29-5dc16667c072>\u001b[0m in \u001b[0;36m<module>\u001b[0;34m()\u001b[0m\n\u001b[0;32m----> 1\u001b[0;31m \u001b[0mprint\u001b[0m\u001b[0;34m(\u001b[0m\u001b[0mdata\u001b[0m\u001b[0;34m.\u001b[0m\u001b[0mtranscript_by_id\u001b[0m\u001b[0;34m(\u001b[0m\u001b[0;34m'ENST00000615943.1'\u001b[0m\u001b[0;34m)\u001b[0m\u001b[0;34m.\u001b[0m\u001b[0mfive_prime_utr_sequence\u001b[0m\u001b[0;34m)\u001b[0m\u001b[0;34m\u001b[0m\u001b[0m\n\u001b[0m",
      "\u001b[0;32m~/miniconda3/lib/python3.6/site-packages/memoized_property.py\u001b[0m in \u001b[0;36mfget_memoized\u001b[0;34m(self)\u001b[0m\n\u001b[1;32m     38\u001b[0m     \u001b[0;32mdef\u001b[0m \u001b[0mfget_memoized\u001b[0m\u001b[0;34m(\u001b[0m\u001b[0mself\u001b[0m\u001b[0;34m)\u001b[0m\u001b[0;34m:\u001b[0m\u001b[0;34m\u001b[0m\u001b[0m\n\u001b[1;32m     39\u001b[0m         \u001b[0;32mif\u001b[0m \u001b[0;32mnot\u001b[0m \u001b[0mhasattr\u001b[0m\u001b[0;34m(\u001b[0m\u001b[0mself\u001b[0m\u001b[0;34m,\u001b[0m \u001b[0mattr_name\u001b[0m\u001b[0;34m)\u001b[0m\u001b[0;34m:\u001b[0m\u001b[0;34m\u001b[0m\u001b[0m\n\u001b[0;32m---> 40\u001b[0;31m             \u001b[0msetattr\u001b[0m\u001b[0;34m(\u001b[0m\u001b[0mself\u001b[0m\u001b[0;34m,\u001b[0m \u001b[0mattr_name\u001b[0m\u001b[0;34m,\u001b[0m \u001b[0mfget\u001b[0m\u001b[0;34m(\u001b[0m\u001b[0mself\u001b[0m\u001b[0;34m)\u001b[0m\u001b[0;34m)\u001b[0m\u001b[0;34m\u001b[0m\u001b[0m\n\u001b[0m\u001b[1;32m     41\u001b[0m         \u001b[0;32mreturn\u001b[0m \u001b[0mgetattr\u001b[0m\u001b[0;34m(\u001b[0m\u001b[0mself\u001b[0m\u001b[0;34m,\u001b[0m \u001b[0mattr_name\u001b[0m\u001b[0;34m)\u001b[0m\u001b[0;34m\u001b[0m\u001b[0m\n\u001b[1;32m     42\u001b[0m \u001b[0;34m\u001b[0m\u001b[0m\n",
      "\u001b[0;32m~/miniconda3/lib/python3.6/site-packages/pyensembl/transcript.py\u001b[0m in \u001b[0;36mfive_prime_utr_sequence\u001b[0;34m(self)\u001b[0m\n\u001b[1;32m    451\u001b[0m         \u001b[0;31m# pylint: disable=invalid-slice-index\u001b[0m\u001b[0;34m\u001b[0m\u001b[0;34m\u001b[0m\u001b[0m\n\u001b[1;32m    452\u001b[0m         \u001b[0;31m# TODO(tavi) Figure out pylint is not happy with this slice\u001b[0m\u001b[0;34m\u001b[0m\u001b[0;34m\u001b[0m\u001b[0m\n\u001b[0;32m--> 453\u001b[0;31m         \u001b[0;32mreturn\u001b[0m \u001b[0mself\u001b[0m\u001b[0;34m.\u001b[0m\u001b[0msequence\u001b[0m\u001b[0;34m[\u001b[0m\u001b[0;34m:\u001b[0m\u001b[0mself\u001b[0m\u001b[0;34m.\u001b[0m\u001b[0mfirst_start_codon_spliced_offset\u001b[0m\u001b[0;34m]\u001b[0m\u001b[0;34m\u001b[0m\u001b[0m\n\u001b[0m\u001b[1;32m    454\u001b[0m \u001b[0;34m\u001b[0m\u001b[0m\n\u001b[1;32m    455\u001b[0m     \u001b[0;34m@\u001b[0m\u001b[0mmemoized_property\u001b[0m\u001b[0;34m\u001b[0m\u001b[0m\n",
      "\u001b[0;32m~/miniconda3/lib/python3.6/site-packages/memoized_property.py\u001b[0m in \u001b[0;36mfget_memoized\u001b[0;34m(self)\u001b[0m\n\u001b[1;32m     38\u001b[0m     \u001b[0;32mdef\u001b[0m \u001b[0mfget_memoized\u001b[0m\u001b[0;34m(\u001b[0m\u001b[0mself\u001b[0m\u001b[0;34m)\u001b[0m\u001b[0;34m:\u001b[0m\u001b[0;34m\u001b[0m\u001b[0m\n\u001b[1;32m     39\u001b[0m         \u001b[0;32mif\u001b[0m \u001b[0;32mnot\u001b[0m \u001b[0mhasattr\u001b[0m\u001b[0;34m(\u001b[0m\u001b[0mself\u001b[0m\u001b[0;34m,\u001b[0m \u001b[0mattr_name\u001b[0m\u001b[0;34m)\u001b[0m\u001b[0;34m:\u001b[0m\u001b[0;34m\u001b[0m\u001b[0m\n\u001b[0;32m---> 40\u001b[0;31m             \u001b[0msetattr\u001b[0m\u001b[0;34m(\u001b[0m\u001b[0mself\u001b[0m\u001b[0;34m,\u001b[0m \u001b[0mattr_name\u001b[0m\u001b[0;34m,\u001b[0m \u001b[0mfget\u001b[0m\u001b[0;34m(\u001b[0m\u001b[0mself\u001b[0m\u001b[0;34m)\u001b[0m\u001b[0;34m)\u001b[0m\u001b[0;34m\u001b[0m\u001b[0m\n\u001b[0m\u001b[1;32m     41\u001b[0m         \u001b[0;32mreturn\u001b[0m \u001b[0mgetattr\u001b[0m\u001b[0;34m(\u001b[0m\u001b[0mself\u001b[0m\u001b[0;34m,\u001b[0m \u001b[0mattr_name\u001b[0m\u001b[0;34m)\u001b[0m\u001b[0;34m\u001b[0m\u001b[0m\n\u001b[1;32m     42\u001b[0m \u001b[0;34m\u001b[0m\u001b[0m\n",
      "\u001b[0;32m~/miniconda3/lib/python3.6/site-packages/pyensembl/transcript.py\u001b[0m in \u001b[0;36mfirst_start_codon_spliced_offset\u001b[0;34m(self)\u001b[0m\n\u001b[1;32m    409\u001b[0m         \u001b[0;34m(\u001b[0m\u001b[0mexcluding\u001b[0m \u001b[0mintrons\u001b[0m\u001b[0;34m)\u001b[0m\u001b[0;34m\u001b[0m\u001b[0m\n\u001b[1;32m    410\u001b[0m         \"\"\"\n\u001b[0;32m--> 411\u001b[0;31m         \u001b[0mstart_offsets\u001b[0m \u001b[0;34m=\u001b[0m \u001b[0mself\u001b[0m\u001b[0;34m.\u001b[0m\u001b[0mstart_codon_spliced_offsets\u001b[0m\u001b[0;34m\u001b[0m\u001b[0m\n\u001b[0m\u001b[1;32m    412\u001b[0m         \u001b[0;32mreturn\u001b[0m \u001b[0mmin\u001b[0m\u001b[0;34m(\u001b[0m\u001b[0mstart_offsets\u001b[0m\u001b[0;34m)\u001b[0m\u001b[0;34m\u001b[0m\u001b[0m\n\u001b[1;32m    413\u001b[0m \u001b[0;34m\u001b[0m\u001b[0m\n",
      "\u001b[0;32m~/miniconda3/lib/python3.6/site-packages/memoized_property.py\u001b[0m in \u001b[0;36mfget_memoized\u001b[0;34m(self)\u001b[0m\n\u001b[1;32m     38\u001b[0m     \u001b[0;32mdef\u001b[0m \u001b[0mfget_memoized\u001b[0m\u001b[0;34m(\u001b[0m\u001b[0mself\u001b[0m\u001b[0;34m)\u001b[0m\u001b[0;34m:\u001b[0m\u001b[0;34m\u001b[0m\u001b[0m\n\u001b[1;32m     39\u001b[0m         \u001b[0;32mif\u001b[0m \u001b[0;32mnot\u001b[0m \u001b[0mhasattr\u001b[0m\u001b[0;34m(\u001b[0m\u001b[0mself\u001b[0m\u001b[0;34m,\u001b[0m \u001b[0mattr_name\u001b[0m\u001b[0;34m)\u001b[0m\u001b[0;34m:\u001b[0m\u001b[0;34m\u001b[0m\u001b[0m\n\u001b[0;32m---> 40\u001b[0;31m             \u001b[0msetattr\u001b[0m\u001b[0;34m(\u001b[0m\u001b[0mself\u001b[0m\u001b[0;34m,\u001b[0m \u001b[0mattr_name\u001b[0m\u001b[0;34m,\u001b[0m \u001b[0mfget\u001b[0m\u001b[0;34m(\u001b[0m\u001b[0mself\u001b[0m\u001b[0;34m)\u001b[0m\u001b[0;34m)\u001b[0m\u001b[0;34m\u001b[0m\u001b[0m\n\u001b[0m\u001b[1;32m     41\u001b[0m         \u001b[0;32mreturn\u001b[0m \u001b[0mgetattr\u001b[0m\u001b[0;34m(\u001b[0m\u001b[0mself\u001b[0m\u001b[0;34m,\u001b[0m \u001b[0mattr_name\u001b[0m\u001b[0;34m)\u001b[0m\u001b[0;34m\u001b[0m\u001b[0m\n\u001b[1;32m     42\u001b[0m \u001b[0;34m\u001b[0m\u001b[0m\n",
      "\u001b[0;32m~/miniconda3/lib/python3.6/site-packages/pyensembl/transcript.py\u001b[0m in \u001b[0;36mstart_codon_spliced_offsets\u001b[0;34m(self)\u001b[0m\n\u001b[1;32m    357\u001b[0m             \u001b[0mself\u001b[0m\u001b[0;34m.\u001b[0m\u001b[0mspliced_offset\u001b[0m\u001b[0;34m(\u001b[0m\u001b[0mposition\u001b[0m\u001b[0;34m)\u001b[0m\u001b[0;34m\u001b[0m\u001b[0m\n\u001b[1;32m    358\u001b[0m             \u001b[0;32mfor\u001b[0m \u001b[0mposition\u001b[0m\u001b[0;34m\u001b[0m\u001b[0m\n\u001b[0;32m--> 359\u001b[0;31m             \u001b[0;32min\u001b[0m \u001b[0mself\u001b[0m\u001b[0;34m.\u001b[0m\u001b[0mstart_codon_positions\u001b[0m\u001b[0;34m\u001b[0m\u001b[0m\n\u001b[0m\u001b[1;32m    360\u001b[0m         ]\n\u001b[1;32m    361\u001b[0m         \u001b[0;32mreturn\u001b[0m \u001b[0mself\u001b[0m\u001b[0;34m.\u001b[0m\u001b[0m_contiguous_offsets\u001b[0m\u001b[0;34m(\u001b[0m\u001b[0moffsets\u001b[0m\u001b[0;34m)\u001b[0m\u001b[0;34m\u001b[0m\u001b[0m\n",
      "\u001b[0;32m~/miniconda3/lib/python3.6/site-packages/memoized_property.py\u001b[0m in \u001b[0;36mfget_memoized\u001b[0;34m(self)\u001b[0m\n\u001b[1;32m     38\u001b[0m     \u001b[0;32mdef\u001b[0m \u001b[0mfget_memoized\u001b[0m\u001b[0;34m(\u001b[0m\u001b[0mself\u001b[0m\u001b[0;34m)\u001b[0m\u001b[0;34m:\u001b[0m\u001b[0;34m\u001b[0m\u001b[0m\n\u001b[1;32m     39\u001b[0m         \u001b[0;32mif\u001b[0m \u001b[0;32mnot\u001b[0m \u001b[0mhasattr\u001b[0m\u001b[0;34m(\u001b[0m\u001b[0mself\u001b[0m\u001b[0;34m,\u001b[0m \u001b[0mattr_name\u001b[0m\u001b[0;34m)\u001b[0m\u001b[0;34m:\u001b[0m\u001b[0;34m\u001b[0m\u001b[0m\n\u001b[0;32m---> 40\u001b[0;31m             \u001b[0msetattr\u001b[0m\u001b[0;34m(\u001b[0m\u001b[0mself\u001b[0m\u001b[0;34m,\u001b[0m \u001b[0mattr_name\u001b[0m\u001b[0;34m,\u001b[0m \u001b[0mfget\u001b[0m\u001b[0;34m(\u001b[0m\u001b[0mself\u001b[0m\u001b[0;34m)\u001b[0m\u001b[0;34m)\u001b[0m\u001b[0;34m\u001b[0m\u001b[0m\n\u001b[0m\u001b[1;32m     41\u001b[0m         \u001b[0;32mreturn\u001b[0m \u001b[0mgetattr\u001b[0m\u001b[0;34m(\u001b[0m\u001b[0mself\u001b[0m\u001b[0;34m,\u001b[0m \u001b[0mattr_name\u001b[0m\u001b[0;34m)\u001b[0m\u001b[0;34m\u001b[0m\u001b[0m\n\u001b[1;32m     42\u001b[0m \u001b[0;34m\u001b[0m\u001b[0m\n",
      "\u001b[0;32m~/miniconda3/lib/python3.6/site-packages/pyensembl/transcript.py\u001b[0m in \u001b[0;36mstart_codon_positions\u001b[0;34m(self)\u001b[0m\n\u001b[1;32m    233\u001b[0m         \u001b[0mChromosomal\u001b[0m \u001b[0mpositions\u001b[0m \u001b[0mof\u001b[0m \u001b[0mnucleotides\u001b[0m \u001b[0;32min\u001b[0m \u001b[0mstart\u001b[0m \u001b[0mcodon\u001b[0m\u001b[0;34m.\u001b[0m\u001b[0;34m\u001b[0m\u001b[0m\n\u001b[1;32m    234\u001b[0m         \"\"\"\n\u001b[0;32m--> 235\u001b[0;31m         \u001b[0;32mreturn\u001b[0m \u001b[0mself\u001b[0m\u001b[0;34m.\u001b[0m\u001b[0m_codon_positions\u001b[0m\u001b[0;34m(\u001b[0m\u001b[0;34m\"start_codon\"\u001b[0m\u001b[0;34m)\u001b[0m\u001b[0;34m\u001b[0m\u001b[0m\n\u001b[0m\u001b[1;32m    236\u001b[0m \u001b[0;34m\u001b[0m\u001b[0m\n\u001b[1;32m    237\u001b[0m     \u001b[0;34m@\u001b[0m\u001b[0mmemoized_property\u001b[0m\u001b[0;34m\u001b[0m\u001b[0m\n",
      "\u001b[0;32m~/miniconda3/lib/python3.6/site-packages/pyensembl/common.py\u001b[0m in \u001b[0;36mwrapped_fn\u001b[0;34m(*args, **kwargs)\u001b[0m\n\u001b[1;32m     65\u001b[0m             \u001b[0;32mreturn\u001b[0m \u001b[0mcache\u001b[0m\u001b[0;34m[\u001b[0m\u001b[0mcache_key\u001b[0m\u001b[0;34m]\u001b[0m\u001b[0;34m\u001b[0m\u001b[0m\n\u001b[1;32m     66\u001b[0m         \u001b[0;32mexcept\u001b[0m \u001b[0mKeyError\u001b[0m\u001b[0;34m:\u001b[0m\u001b[0;34m\u001b[0m\u001b[0m\n\u001b[0;32m---> 67\u001b[0;31m             \u001b[0mvalue\u001b[0m \u001b[0;34m=\u001b[0m \u001b[0mfn\u001b[0m\u001b[0;34m(\u001b[0m\u001b[0;34m*\u001b[0m\u001b[0margs\u001b[0m\u001b[0;34m,\u001b[0m \u001b[0;34m**\u001b[0m\u001b[0mkwargs\u001b[0m\u001b[0;34m)\u001b[0m\u001b[0;34m\u001b[0m\u001b[0m\n\u001b[0m\u001b[1;32m     68\u001b[0m             \u001b[0mcache\u001b[0m\u001b[0;34m[\u001b[0m\u001b[0mcache_key\u001b[0m\u001b[0;34m]\u001b[0m \u001b[0;34m=\u001b[0m \u001b[0mvalue\u001b[0m\u001b[0;34m\u001b[0m\u001b[0m\n\u001b[1;32m     69\u001b[0m             \u001b[0;32mreturn\u001b[0m \u001b[0mvalue\u001b[0m\u001b[0;34m\u001b[0m\u001b[0m\n",
      "\u001b[0;32m~/miniconda3/lib/python3.6/site-packages/pyensembl/transcript.py\u001b[0m in \u001b[0;36m_codon_positions\u001b[0;34m(self, feature)\u001b[0m\n\u001b[1;32m    201\u001b[0m         \u001b[0mReturns\u001b[0m \u001b[0mlist\u001b[0m \u001b[0mof\u001b[0m \u001b[0mthree\u001b[0m \u001b[0mchromosomal\u001b[0m \u001b[0mpositions\u001b[0m\u001b[0;34m.\u001b[0m\u001b[0;34m\u001b[0m\u001b[0m\n\u001b[1;32m    202\u001b[0m         \"\"\"\n\u001b[0;32m--> 203\u001b[0;31m         \u001b[0mresults\u001b[0m \u001b[0;34m=\u001b[0m \u001b[0mself\u001b[0m\u001b[0;34m.\u001b[0m\u001b[0m_transcript_feature_positions\u001b[0m\u001b[0;34m(\u001b[0m\u001b[0mfeature\u001b[0m\u001b[0;34m)\u001b[0m\u001b[0;34m\u001b[0m\u001b[0m\n\u001b[0m\u001b[1;32m    204\u001b[0m         \u001b[0;32mif\u001b[0m \u001b[0mlen\u001b[0m\u001b[0;34m(\u001b[0m\u001b[0mresults\u001b[0m\u001b[0;34m)\u001b[0m \u001b[0;34m!=\u001b[0m \u001b[0;36m3\u001b[0m\u001b[0;34m:\u001b[0m\u001b[0;34m\u001b[0m\u001b[0m\n\u001b[1;32m    205\u001b[0m             raise ValueError(\n",
      "\u001b[0;32m~/miniconda3/lib/python3.6/site-packages/pyensembl/common.py\u001b[0m in \u001b[0;36mwrapped_fn\u001b[0;34m(*args, **kwargs)\u001b[0m\n\u001b[1;32m     65\u001b[0m             \u001b[0;32mreturn\u001b[0m \u001b[0mcache\u001b[0m\u001b[0;34m[\u001b[0m\u001b[0mcache_key\u001b[0m\u001b[0;34m]\u001b[0m\u001b[0;34m\u001b[0m\u001b[0m\n\u001b[1;32m     66\u001b[0m         \u001b[0;32mexcept\u001b[0m \u001b[0mKeyError\u001b[0m\u001b[0;34m:\u001b[0m\u001b[0;34m\u001b[0m\u001b[0m\n\u001b[0;32m---> 67\u001b[0;31m             \u001b[0mvalue\u001b[0m \u001b[0;34m=\u001b[0m \u001b[0mfn\u001b[0m\u001b[0;34m(\u001b[0m\u001b[0;34m*\u001b[0m\u001b[0margs\u001b[0m\u001b[0;34m,\u001b[0m \u001b[0;34m**\u001b[0m\u001b[0mkwargs\u001b[0m\u001b[0;34m)\u001b[0m\u001b[0;34m\u001b[0m\u001b[0m\n\u001b[0m\u001b[1;32m     68\u001b[0m             \u001b[0mcache\u001b[0m\u001b[0;34m[\u001b[0m\u001b[0mcache_key\u001b[0m\u001b[0;34m]\u001b[0m \u001b[0;34m=\u001b[0m \u001b[0mvalue\u001b[0m\u001b[0;34m\u001b[0m\u001b[0m\n\u001b[1;32m     69\u001b[0m             \u001b[0;32mreturn\u001b[0m \u001b[0mvalue\u001b[0m\u001b[0;34m\u001b[0m\u001b[0m\n",
      "\u001b[0;32m~/miniconda3/lib/python3.6/site-packages/pyensembl/transcript.py\u001b[0m in \u001b[0;36m_transcript_feature_positions\u001b[0;34m(self, feature)\u001b[0m\n\u001b[1;32m    176\u001b[0m         \"\"\"\n\u001b[1;32m    177\u001b[0m         ranges = self._transcript_feature_position_ranges(\n\u001b[0;32m--> 178\u001b[0;31m             feature, required=True)\n\u001b[0m\u001b[1;32m    179\u001b[0m         \u001b[0mresults\u001b[0m \u001b[0;34m=\u001b[0m \u001b[0;34m[\u001b[0m\u001b[0;34m]\u001b[0m\u001b[0;34m\u001b[0m\u001b[0m\n\u001b[1;32m    180\u001b[0m         \u001b[0;31m# a feature (such as a stop codon), maybe be split over multiple\u001b[0m\u001b[0;34m\u001b[0m\u001b[0;34m\u001b[0m\u001b[0m\n",
      "\u001b[0;32m~/miniconda3/lib/python3.6/site-packages/pyensembl/common.py\u001b[0m in \u001b[0;36mwrapped_fn\u001b[0;34m(*args, **kwargs)\u001b[0m\n\u001b[1;32m     65\u001b[0m             \u001b[0;32mreturn\u001b[0m \u001b[0mcache\u001b[0m\u001b[0;34m[\u001b[0m\u001b[0mcache_key\u001b[0m\u001b[0;34m]\u001b[0m\u001b[0;34m\u001b[0m\u001b[0m\n\u001b[1;32m     66\u001b[0m         \u001b[0;32mexcept\u001b[0m \u001b[0mKeyError\u001b[0m\u001b[0;34m:\u001b[0m\u001b[0;34m\u001b[0m\u001b[0m\n\u001b[0;32m---> 67\u001b[0;31m             \u001b[0mvalue\u001b[0m \u001b[0;34m=\u001b[0m \u001b[0mfn\u001b[0m\u001b[0;34m(\u001b[0m\u001b[0;34m*\u001b[0m\u001b[0margs\u001b[0m\u001b[0;34m,\u001b[0m \u001b[0;34m**\u001b[0m\u001b[0mkwargs\u001b[0m\u001b[0;34m)\u001b[0m\u001b[0;34m\u001b[0m\u001b[0m\n\u001b[0m\u001b[1;32m     68\u001b[0m             \u001b[0mcache\u001b[0m\u001b[0;34m[\u001b[0m\u001b[0mcache_key\u001b[0m\u001b[0;34m]\u001b[0m \u001b[0;34m=\u001b[0m \u001b[0mvalue\u001b[0m\u001b[0;34m\u001b[0m\u001b[0m\n\u001b[1;32m     69\u001b[0m             \u001b[0;32mreturn\u001b[0m \u001b[0mvalue\u001b[0m\u001b[0;34m\u001b[0m\u001b[0m\n",
      "\u001b[0;32m~/miniconda3/lib/python3.6/site-packages/pyensembl/transcript.py\u001b[0m in \u001b[0;36m_transcript_feature_position_ranges\u001b[0;34m(self, feature, required)\u001b[0m\n\u001b[1;32m    167\u001b[0m             raise ValueError(\n\u001b[1;32m    168\u001b[0m                 \"Transcript %s does not contain feature %s\" % (\n\u001b[0;32m--> 169\u001b[0;31m                     self.id, feature))\n\u001b[0m\u001b[1;32m    170\u001b[0m         \u001b[0;32mreturn\u001b[0m \u001b[0mresults\u001b[0m\u001b[0;34m\u001b[0m\u001b[0m\n\u001b[1;32m    171\u001b[0m \u001b[0;34m\u001b[0m\u001b[0m\n",
      "\u001b[0;31mValueError\u001b[0m: Transcript ENST00000615943.1 does not contain feature start_codon"
     ],
     "output_type": "error"
    }
   ],
   "source": [
    "print(data.transcript_by_id('ENST00000615943.1').five_prime_utr_sequence)"
>>>>>>> 1c7049b67f72570d2c562b506265ec0849eeca1c
   ]
  },
  {
   "cell_type": "code",
   "execution_count": null,
<<<<<<< HEAD
   "metadata": {
    "collapsed": true,
    "deletable": true,
    "editable": true
   },
=======
   "metadata": {},
>>>>>>> 1c7049b67f72570d2c562b506265ec0849eeca1c
   "outputs": [],
   "source": []
  },
  {
   "cell_type": "code",
   "execution_count": null,
<<<<<<< HEAD
   "metadata": {
    "collapsed": true,
    "deletable": true,
    "editable": true
   },
=======
   "metadata": {},
>>>>>>> 1c7049b67f72570d2c562b506265ec0849eeca1c
   "outputs": [],
   "source": []
  },
  {
   "cell_type": "code",
   "execution_count": null,
<<<<<<< HEAD
   "metadata": {
    "collapsed": true,
    "deletable": true,
    "editable": true
   },
=======
   "metadata": {},
>>>>>>> 1c7049b67f72570d2c562b506265ec0849eeca1c
   "outputs": [],
   "source": []
  },
  {
   "cell_type": "code",
   "execution_count": null,
<<<<<<< HEAD
   "metadata": {
    "collapsed": true,
    "deletable": true,
    "editable": true
   },
=======
   "metadata": {},
>>>>>>> 1c7049b67f72570d2c562b506265ec0849eeca1c
   "outputs": [],
   "source": []
  },
  {
   "cell_type": "code",
   "execution_count": null,
<<<<<<< HEAD
   "metadata": {
    "collapsed": true,
    "deletable": true,
    "editable": true
   },
=======
   "metadata": {},
>>>>>>> 1c7049b67f72570d2c562b506265ec0849eeca1c
   "outputs": [],
   "source": []
  },
  {
   "cell_type": "code",
   "execution_count": null,
<<<<<<< HEAD
   "metadata": {
    "collapsed": true,
    "deletable": true,
    "editable": true
   },
=======
   "metadata": {},
>>>>>>> 1c7049b67f72570d2c562b506265ec0849eeca1c
   "outputs": [],
   "source": []
  }
 ],
 "metadata": {
<<<<<<< HEAD
  "anaconda-cloud": {},
  "kernelspec": {
   "display_name": "Python [default]",
=======
  "kernelspec": {
   "display_name": "Python 3",
>>>>>>> 1c7049b67f72570d2c562b506265ec0849eeca1c
   "language": "python",
   "name": "python3"
  },
  "language_info": {
   "codemirror_mode": {
    "name": "ipython",
    "version": 3
   },
   "file_extension": ".py",
   "mimetype": "text/x-python",
   "name": "python",
   "nbconvert_exporter": "python",
   "pygments_lexer": "ipython3",
<<<<<<< HEAD
   "version": "3.5.2"
=======
   "version": "3.6.3"
>>>>>>> 1c7049b67f72570d2c562b506265ec0849eeca1c
  }
 },
 "nbformat": 4,
 "nbformat_minor": 2
}
